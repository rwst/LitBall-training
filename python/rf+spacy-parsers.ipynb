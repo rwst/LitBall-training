{
 "cells": [
  {
   "cell_type": "code",
   "execution_count": 149,
   "metadata": {},
   "outputs": [
    {
     "ename": "ConfigValidationError",
     "evalue": "\n\nConfig validation error\ntagger -> label_smoothing\textra fields not permitted\n{'nlp': <spacy.lang.en.English object at 0x7f8ed7059dd0>, 'name': 'tagger', 'label_smoothing': 0.0, 'model': {'@architectures': 'spacy.Tagger.v2', 'nO': None, 'normalize': False, 'tok2vec': {'@architectures': 'spacy-transformers.TransformerListener.v1', 'grad_factor': 1.0, 'upstream': 'transformer', 'pooling': {'@layers': 'reduce_mean.v1'}}}, 'neg_prefix': '!', 'overwrite': False, 'scorer': {'@scorers': 'spacy.tagger_scorer.v1'}, '@factories': 'tagger'}",
     "output_type": "error",
     "traceback": [
      "\u001b[0;31m---------------------------------------------------------------------------\u001b[0m",
      "\u001b[0;31mConfigValidationError\u001b[0m                     Traceback (most recent call last)",
      "Cell \u001b[0;32mIn[149], line 11\u001b[0m\n\u001b[1;32m      8\u001b[0m text_key \u001b[38;5;241m=\u001b[39m \u001b[38;5;124m\"\u001b[39m\u001b[38;5;124moriginalTitle\u001b[39m\u001b[38;5;124m\"\u001b[39m\n\u001b[1;32m     10\u001b[0m \u001b[38;5;66;03m# Load the spaCy language model:\u001b[39;00m\n\u001b[0;32m---> 11\u001b[0m nlp \u001b[38;5;241m=\u001b[39m \u001b[43mspacy\u001b[49m\u001b[38;5;241;43m.\u001b[39;49m\u001b[43mload\u001b[49m\u001b[43m(\u001b[49m\u001b[43mparser_path\u001b[49m\u001b[43m)\u001b[49m\n",
      "File \u001b[0;32m~/.local/lib/python3.11/site-packages/spacy/__init__.py:54\u001b[0m, in \u001b[0;36mload\u001b[0;34m(name, vocab, disable, enable, exclude, config)\u001b[0m\n\u001b[1;32m     30\u001b[0m \u001b[38;5;28;01mdef\u001b[39;00m \u001b[38;5;21mload\u001b[39m(\n\u001b[1;32m     31\u001b[0m     name: Union[\u001b[38;5;28mstr\u001b[39m, Path],\n\u001b[1;32m     32\u001b[0m     \u001b[38;5;241m*\u001b[39m,\n\u001b[0;32m   (...)\u001b[0m\n\u001b[1;32m     37\u001b[0m     config: Union[Dict[\u001b[38;5;28mstr\u001b[39m, Any], Config] \u001b[38;5;241m=\u001b[39m util\u001b[38;5;241m.\u001b[39mSimpleFrozenDict(),\n\u001b[1;32m     38\u001b[0m ) \u001b[38;5;241m-\u001b[39m\u001b[38;5;241m>\u001b[39m Language:\n\u001b[1;32m     39\u001b[0m \u001b[38;5;250m    \u001b[39m\u001b[38;5;124;03m\"\"\"Load a spaCy model from an installed package or a local path.\u001b[39;00m\n\u001b[1;32m     40\u001b[0m \n\u001b[1;32m     41\u001b[0m \u001b[38;5;124;03m    name (str): Package name or model path.\u001b[39;00m\n\u001b[0;32m   (...)\u001b[0m\n\u001b[1;32m     52\u001b[0m \u001b[38;5;124;03m    RETURNS (Language): The loaded nlp object.\u001b[39;00m\n\u001b[1;32m     53\u001b[0m \u001b[38;5;124;03m    \"\"\"\u001b[39;00m\n\u001b[0;32m---> 54\u001b[0m     \u001b[38;5;28;01mreturn\u001b[39;00m \u001b[43mutil\u001b[49m\u001b[38;5;241;43m.\u001b[39;49m\u001b[43mload_model\u001b[49m\u001b[43m(\u001b[49m\n\u001b[1;32m     55\u001b[0m \u001b[43m        \u001b[49m\u001b[43mname\u001b[49m\u001b[43m,\u001b[49m\n\u001b[1;32m     56\u001b[0m \u001b[43m        \u001b[49m\u001b[43mvocab\u001b[49m\u001b[38;5;241;43m=\u001b[39;49m\u001b[43mvocab\u001b[49m\u001b[43m,\u001b[49m\n\u001b[1;32m     57\u001b[0m \u001b[43m        \u001b[49m\u001b[43mdisable\u001b[49m\u001b[38;5;241;43m=\u001b[39;49m\u001b[43mdisable\u001b[49m\u001b[43m,\u001b[49m\n\u001b[1;32m     58\u001b[0m \u001b[43m        \u001b[49m\u001b[43menable\u001b[49m\u001b[38;5;241;43m=\u001b[39;49m\u001b[43menable\u001b[49m\u001b[43m,\u001b[49m\n\u001b[1;32m     59\u001b[0m \u001b[43m        \u001b[49m\u001b[43mexclude\u001b[49m\u001b[38;5;241;43m=\u001b[39;49m\u001b[43mexclude\u001b[49m\u001b[43m,\u001b[49m\n\u001b[1;32m     60\u001b[0m \u001b[43m        \u001b[49m\u001b[43mconfig\u001b[49m\u001b[38;5;241;43m=\u001b[39;49m\u001b[43mconfig\u001b[49m\u001b[43m,\u001b[49m\n\u001b[1;32m     61\u001b[0m \u001b[43m    \u001b[49m\u001b[43m)\u001b[49m\n",
      "File \u001b[0;32m~/.local/lib/python3.11/site-packages/spacy/util.py:432\u001b[0m, in \u001b[0;36mload_model\u001b[0;34m(name, vocab, disable, enable, exclude, config)\u001b[0m\n\u001b[1;32m    430\u001b[0m     \u001b[38;5;28;01mreturn\u001b[39;00m get_lang_class(name\u001b[38;5;241m.\u001b[39mreplace(\u001b[38;5;124m\"\u001b[39m\u001b[38;5;124mblank:\u001b[39m\u001b[38;5;124m\"\u001b[39m, \u001b[38;5;124m\"\u001b[39m\u001b[38;5;124m\"\u001b[39m))()\n\u001b[1;32m    431\u001b[0m \u001b[38;5;28;01mif\u001b[39;00m is_package(name):  \u001b[38;5;66;03m# installed as package\u001b[39;00m\n\u001b[0;32m--> 432\u001b[0m     \u001b[38;5;28;01mreturn\u001b[39;00m \u001b[43mload_model_from_package\u001b[49m\u001b[43m(\u001b[49m\u001b[43mname\u001b[49m\u001b[43m,\u001b[49m\u001b[43m \u001b[49m\u001b[38;5;241;43m*\u001b[39;49m\u001b[38;5;241;43m*\u001b[39;49m\u001b[43mkwargs\u001b[49m\u001b[43m)\u001b[49m  \u001b[38;5;66;03m# type: ignore[arg-type]\u001b[39;00m\n\u001b[1;32m    433\u001b[0m \u001b[38;5;28;01mif\u001b[39;00m Path(name)\u001b[38;5;241m.\u001b[39mexists():  \u001b[38;5;66;03m# path to model data directory\u001b[39;00m\n\u001b[1;32m    434\u001b[0m     \u001b[38;5;28;01mreturn\u001b[39;00m load_model_from_path(Path(name), \u001b[38;5;241m*\u001b[39m\u001b[38;5;241m*\u001b[39mkwargs)  \u001b[38;5;66;03m# type: ignore[arg-type]\u001b[39;00m\n",
      "File \u001b[0;32m~/.local/lib/python3.11/site-packages/spacy/util.py:468\u001b[0m, in \u001b[0;36mload_model_from_package\u001b[0;34m(name, vocab, disable, enable, exclude, config)\u001b[0m\n\u001b[1;32m    451\u001b[0m \u001b[38;5;250m\u001b[39m\u001b[38;5;124;03m\"\"\"Load a model from an installed package.\u001b[39;00m\n\u001b[1;32m    452\u001b[0m \n\u001b[1;32m    453\u001b[0m \u001b[38;5;124;03mname (str): The package name.\u001b[39;00m\n\u001b[0;32m   (...)\u001b[0m\n\u001b[1;32m    465\u001b[0m \u001b[38;5;124;03mRETURNS (Language): The loaded nlp object.\u001b[39;00m\n\u001b[1;32m    466\u001b[0m \u001b[38;5;124;03m\"\"\"\u001b[39;00m\n\u001b[1;32m    467\u001b[0m \u001b[38;5;28mcls\u001b[39m \u001b[38;5;241m=\u001b[39m importlib\u001b[38;5;241m.\u001b[39mimport_module(name)\n\u001b[0;32m--> 468\u001b[0m \u001b[38;5;28;01mreturn\u001b[39;00m \u001b[38;5;28;43mcls\u001b[39;49m\u001b[38;5;241;43m.\u001b[39;49m\u001b[43mload\u001b[49m\u001b[43m(\u001b[49m\u001b[43mvocab\u001b[49m\u001b[38;5;241;43m=\u001b[39;49m\u001b[43mvocab\u001b[49m\u001b[43m,\u001b[49m\u001b[43m \u001b[49m\u001b[43mdisable\u001b[49m\u001b[38;5;241;43m=\u001b[39;49m\u001b[43mdisable\u001b[49m\u001b[43m,\u001b[49m\u001b[43m \u001b[49m\u001b[43menable\u001b[49m\u001b[38;5;241;43m=\u001b[39;49m\u001b[43menable\u001b[49m\u001b[43m,\u001b[49m\u001b[43m \u001b[49m\u001b[43mexclude\u001b[49m\u001b[38;5;241;43m=\u001b[39;49m\u001b[43mexclude\u001b[49m\u001b[43m,\u001b[49m\u001b[43m \u001b[49m\u001b[43mconfig\u001b[49m\u001b[38;5;241;43m=\u001b[39;49m\u001b[43mconfig\u001b[49m\u001b[43m)\u001b[49m\n",
      "File \u001b[0;32m~/.local/lib/python3.11/site-packages/en_core_web_trf/__init__.py:10\u001b[0m, in \u001b[0;36mload\u001b[0;34m(**overrides)\u001b[0m\n\u001b[1;32m      9\u001b[0m \u001b[38;5;28;01mdef\u001b[39;00m \u001b[38;5;21mload\u001b[39m(\u001b[38;5;241m*\u001b[39m\u001b[38;5;241m*\u001b[39moverrides):\n\u001b[0;32m---> 10\u001b[0m     \u001b[38;5;28;01mreturn\u001b[39;00m \u001b[43mload_model_from_init_py\u001b[49m\u001b[43m(\u001b[49m\u001b[38;5;18;43m__file__\u001b[39;49m\u001b[43m,\u001b[49m\u001b[43m \u001b[49m\u001b[38;5;241;43m*\u001b[39;49m\u001b[38;5;241;43m*\u001b[39;49m\u001b[43moverrides\u001b[49m\u001b[43m)\u001b[49m\n",
      "File \u001b[0;32m~/.local/lib/python3.11/site-packages/spacy/util.py:649\u001b[0m, in \u001b[0;36mload_model_from_init_py\u001b[0;34m(init_file, vocab, disable, enable, exclude, config)\u001b[0m\n\u001b[1;32m    647\u001b[0m \u001b[38;5;28;01mif\u001b[39;00m \u001b[38;5;129;01mnot\u001b[39;00m model_path\u001b[38;5;241m.\u001b[39mexists():\n\u001b[1;32m    648\u001b[0m     \u001b[38;5;28;01mraise\u001b[39;00m \u001b[38;5;167;01mIOError\u001b[39;00m(Errors\u001b[38;5;241m.\u001b[39mE052\u001b[38;5;241m.\u001b[39mformat(path\u001b[38;5;241m=\u001b[39mdata_path))\n\u001b[0;32m--> 649\u001b[0m \u001b[38;5;28;01mreturn\u001b[39;00m \u001b[43mload_model_from_path\u001b[49m\u001b[43m(\u001b[49m\n\u001b[1;32m    650\u001b[0m \u001b[43m    \u001b[49m\u001b[43mdata_path\u001b[49m\u001b[43m,\u001b[49m\n\u001b[1;32m    651\u001b[0m \u001b[43m    \u001b[49m\u001b[43mvocab\u001b[49m\u001b[38;5;241;43m=\u001b[39;49m\u001b[43mvocab\u001b[49m\u001b[43m,\u001b[49m\n\u001b[1;32m    652\u001b[0m \u001b[43m    \u001b[49m\u001b[43mmeta\u001b[49m\u001b[38;5;241;43m=\u001b[39;49m\u001b[43mmeta\u001b[49m\u001b[43m,\u001b[49m\n\u001b[1;32m    653\u001b[0m \u001b[43m    \u001b[49m\u001b[43mdisable\u001b[49m\u001b[38;5;241;43m=\u001b[39;49m\u001b[43mdisable\u001b[49m\u001b[43m,\u001b[49m\n\u001b[1;32m    654\u001b[0m \u001b[43m    \u001b[49m\u001b[43menable\u001b[49m\u001b[38;5;241;43m=\u001b[39;49m\u001b[43menable\u001b[49m\u001b[43m,\u001b[49m\n\u001b[1;32m    655\u001b[0m \u001b[43m    \u001b[49m\u001b[43mexclude\u001b[49m\u001b[38;5;241;43m=\u001b[39;49m\u001b[43mexclude\u001b[49m\u001b[43m,\u001b[49m\n\u001b[1;32m    656\u001b[0m \u001b[43m    \u001b[49m\u001b[43mconfig\u001b[49m\u001b[38;5;241;43m=\u001b[39;49m\u001b[43mconfig\u001b[49m\u001b[43m,\u001b[49m\n\u001b[1;32m    657\u001b[0m \u001b[43m\u001b[49m\u001b[43m)\u001b[49m\n",
      "File \u001b[0;32m~/.local/lib/python3.11/site-packages/spacy/util.py:506\u001b[0m, in \u001b[0;36mload_model_from_path\u001b[0;34m(model_path, meta, vocab, disable, enable, exclude, config)\u001b[0m\n\u001b[1;32m    504\u001b[0m overrides \u001b[38;5;241m=\u001b[39m dict_to_dot(config)\n\u001b[1;32m    505\u001b[0m config \u001b[38;5;241m=\u001b[39m load_config(config_path, overrides\u001b[38;5;241m=\u001b[39moverrides)\n\u001b[0;32m--> 506\u001b[0m nlp \u001b[38;5;241m=\u001b[39m \u001b[43mload_model_from_config\u001b[49m\u001b[43m(\u001b[49m\n\u001b[1;32m    507\u001b[0m \u001b[43m    \u001b[49m\u001b[43mconfig\u001b[49m\u001b[43m,\u001b[49m\n\u001b[1;32m    508\u001b[0m \u001b[43m    \u001b[49m\u001b[43mvocab\u001b[49m\u001b[38;5;241;43m=\u001b[39;49m\u001b[43mvocab\u001b[49m\u001b[43m,\u001b[49m\n\u001b[1;32m    509\u001b[0m \u001b[43m    \u001b[49m\u001b[43mdisable\u001b[49m\u001b[38;5;241;43m=\u001b[39;49m\u001b[43mdisable\u001b[49m\u001b[43m,\u001b[49m\n\u001b[1;32m    510\u001b[0m \u001b[43m    \u001b[49m\u001b[43menable\u001b[49m\u001b[38;5;241;43m=\u001b[39;49m\u001b[43menable\u001b[49m\u001b[43m,\u001b[49m\n\u001b[1;32m    511\u001b[0m \u001b[43m    \u001b[49m\u001b[43mexclude\u001b[49m\u001b[38;5;241;43m=\u001b[39;49m\u001b[43mexclude\u001b[49m\u001b[43m,\u001b[49m\n\u001b[1;32m    512\u001b[0m \u001b[43m    \u001b[49m\u001b[43mmeta\u001b[49m\u001b[38;5;241;43m=\u001b[39;49m\u001b[43mmeta\u001b[49m\u001b[43m,\u001b[49m\n\u001b[1;32m    513\u001b[0m \u001b[43m\u001b[49m\u001b[43m)\u001b[49m\n\u001b[1;32m    514\u001b[0m \u001b[38;5;28;01mreturn\u001b[39;00m nlp\u001b[38;5;241m.\u001b[39mfrom_disk(model_path, exclude\u001b[38;5;241m=\u001b[39mexclude, overrides\u001b[38;5;241m=\u001b[39moverrides)\n",
      "File \u001b[0;32m~/.local/lib/python3.11/site-packages/spacy/util.py:554\u001b[0m, in \u001b[0;36mload_model_from_config\u001b[0;34m(config, meta, vocab, disable, enable, exclude, auto_fill, validate)\u001b[0m\n\u001b[1;32m    551\u001b[0m \u001b[38;5;66;03m# This will automatically handle all codes registered via the languages\u001b[39;00m\n\u001b[1;32m    552\u001b[0m \u001b[38;5;66;03m# registry, including custom subclasses provided via entry points\u001b[39;00m\n\u001b[1;32m    553\u001b[0m lang_cls \u001b[38;5;241m=\u001b[39m get_lang_class(nlp_config[\u001b[38;5;124m\"\u001b[39m\u001b[38;5;124mlang\u001b[39m\u001b[38;5;124m\"\u001b[39m])\n\u001b[0;32m--> 554\u001b[0m nlp \u001b[38;5;241m=\u001b[39m \u001b[43mlang_cls\u001b[49m\u001b[38;5;241;43m.\u001b[39;49m\u001b[43mfrom_config\u001b[49m\u001b[43m(\u001b[49m\n\u001b[1;32m    555\u001b[0m \u001b[43m    \u001b[49m\u001b[43mconfig\u001b[49m\u001b[43m,\u001b[49m\n\u001b[1;32m    556\u001b[0m \u001b[43m    \u001b[49m\u001b[43mvocab\u001b[49m\u001b[38;5;241;43m=\u001b[39;49m\u001b[43mvocab\u001b[49m\u001b[43m,\u001b[49m\n\u001b[1;32m    557\u001b[0m \u001b[43m    \u001b[49m\u001b[43mdisable\u001b[49m\u001b[38;5;241;43m=\u001b[39;49m\u001b[43mdisable\u001b[49m\u001b[43m,\u001b[49m\n\u001b[1;32m    558\u001b[0m \u001b[43m    \u001b[49m\u001b[43menable\u001b[49m\u001b[38;5;241;43m=\u001b[39;49m\u001b[43menable\u001b[49m\u001b[43m,\u001b[49m\n\u001b[1;32m    559\u001b[0m \u001b[43m    \u001b[49m\u001b[43mexclude\u001b[49m\u001b[38;5;241;43m=\u001b[39;49m\u001b[43mexclude\u001b[49m\u001b[43m,\u001b[49m\n\u001b[1;32m    560\u001b[0m \u001b[43m    \u001b[49m\u001b[43mauto_fill\u001b[49m\u001b[38;5;241;43m=\u001b[39;49m\u001b[43mauto_fill\u001b[49m\u001b[43m,\u001b[49m\n\u001b[1;32m    561\u001b[0m \u001b[43m    \u001b[49m\u001b[43mvalidate\u001b[49m\u001b[38;5;241;43m=\u001b[39;49m\u001b[43mvalidate\u001b[49m\u001b[43m,\u001b[49m\n\u001b[1;32m    562\u001b[0m \u001b[43m    \u001b[49m\u001b[43mmeta\u001b[49m\u001b[38;5;241;43m=\u001b[39;49m\u001b[43mmeta\u001b[49m\u001b[43m,\u001b[49m\n\u001b[1;32m    563\u001b[0m \u001b[43m\u001b[49m\u001b[43m)\u001b[49m\n\u001b[1;32m    564\u001b[0m \u001b[38;5;28;01mreturn\u001b[39;00m nlp\n",
      "File \u001b[0;32m~/.local/lib/python3.11/site-packages/spacy/language.py:1818\u001b[0m, in \u001b[0;36mLanguage.from_config\u001b[0;34m(cls, config, vocab, disable, enable, exclude, meta, auto_fill, validate)\u001b[0m\n\u001b[1;32m   1815\u001b[0m     factory \u001b[38;5;241m=\u001b[39m pipe_cfg\u001b[38;5;241m.\u001b[39mpop(\u001b[38;5;124m\"\u001b[39m\u001b[38;5;124mfactory\u001b[39m\u001b[38;5;124m\"\u001b[39m)\n\u001b[1;32m   1816\u001b[0m     \u001b[38;5;66;03m# The pipe name (key in the config) here is the unique name\u001b[39;00m\n\u001b[1;32m   1817\u001b[0m     \u001b[38;5;66;03m# of the component, not necessarily the factory\u001b[39;00m\n\u001b[0;32m-> 1818\u001b[0m     \u001b[43mnlp\u001b[49m\u001b[38;5;241;43m.\u001b[39;49m\u001b[43madd_pipe\u001b[49m\u001b[43m(\u001b[49m\n\u001b[1;32m   1819\u001b[0m \u001b[43m        \u001b[49m\u001b[43mfactory\u001b[49m\u001b[43m,\u001b[49m\n\u001b[1;32m   1820\u001b[0m \u001b[43m        \u001b[49m\u001b[43mname\u001b[49m\u001b[38;5;241;43m=\u001b[39;49m\u001b[43mpipe_name\u001b[49m\u001b[43m,\u001b[49m\n\u001b[1;32m   1821\u001b[0m \u001b[43m        \u001b[49m\u001b[43mconfig\u001b[49m\u001b[38;5;241;43m=\u001b[39;49m\u001b[43mpipe_cfg\u001b[49m\u001b[43m,\u001b[49m\n\u001b[1;32m   1822\u001b[0m \u001b[43m        \u001b[49m\u001b[43mvalidate\u001b[49m\u001b[38;5;241;43m=\u001b[39;49m\u001b[43mvalidate\u001b[49m\u001b[43m,\u001b[49m\n\u001b[1;32m   1823\u001b[0m \u001b[43m        \u001b[49m\u001b[43mraw_config\u001b[49m\u001b[38;5;241;43m=\u001b[39;49m\u001b[43mraw_config\u001b[49m\u001b[43m,\u001b[49m\n\u001b[1;32m   1824\u001b[0m \u001b[43m    \u001b[49m\u001b[43m)\u001b[49m\n\u001b[1;32m   1825\u001b[0m \u001b[38;5;28;01melse\u001b[39;00m:\n\u001b[1;32m   1826\u001b[0m     \u001b[38;5;66;03m# We need the sourced components to reference the same\u001b[39;00m\n\u001b[1;32m   1827\u001b[0m     \u001b[38;5;66;03m# vocab without modifying the current vocab state **AND**\u001b[39;00m\n\u001b[0;32m   (...)\u001b[0m\n\u001b[1;32m   1832\u001b[0m     \u001b[38;5;66;03m# during deserialization, so they do not need any\u001b[39;00m\n\u001b[1;32m   1833\u001b[0m     \u001b[38;5;66;03m# additional handling.\u001b[39;00m\n\u001b[1;32m   1834\u001b[0m     \u001b[38;5;28;01mif\u001b[39;00m vocab_b \u001b[38;5;129;01mis\u001b[39;00m \u001b[38;5;28;01mNone\u001b[39;00m:\n",
      "File \u001b[0;32m~/.local/lib/python3.11/site-packages/spacy/language.py:801\u001b[0m, in \u001b[0;36mLanguage.add_pipe\u001b[0;34m(self, factory_name, name, before, after, first, last, source, config, raw_config, validate)\u001b[0m\n\u001b[1;32m    793\u001b[0m     \u001b[38;5;28;01mif\u001b[39;00m \u001b[38;5;129;01mnot\u001b[39;00m \u001b[38;5;28mself\u001b[39m\u001b[38;5;241m.\u001b[39mhas_factory(factory_name):\n\u001b[1;32m    794\u001b[0m         err \u001b[38;5;241m=\u001b[39m Errors\u001b[38;5;241m.\u001b[39mE002\u001b[38;5;241m.\u001b[39mformat(\n\u001b[1;32m    795\u001b[0m             name\u001b[38;5;241m=\u001b[39mfactory_name,\n\u001b[1;32m    796\u001b[0m             opts\u001b[38;5;241m=\u001b[39m\u001b[38;5;124m\"\u001b[39m\u001b[38;5;124m, \u001b[39m\u001b[38;5;124m\"\u001b[39m\u001b[38;5;241m.\u001b[39mjoin(\u001b[38;5;28mself\u001b[39m\u001b[38;5;241m.\u001b[39mfactory_names),\n\u001b[0;32m   (...)\u001b[0m\n\u001b[1;32m    799\u001b[0m             lang_code\u001b[38;5;241m=\u001b[39m\u001b[38;5;28mself\u001b[39m\u001b[38;5;241m.\u001b[39mlang,\n\u001b[1;32m    800\u001b[0m         )\n\u001b[0;32m--> 801\u001b[0m     pipe_component \u001b[38;5;241m=\u001b[39m \u001b[38;5;28;43mself\u001b[39;49m\u001b[38;5;241;43m.\u001b[39;49m\u001b[43mcreate_pipe\u001b[49m\u001b[43m(\u001b[49m\n\u001b[1;32m    802\u001b[0m \u001b[43m        \u001b[49m\u001b[43mfactory_name\u001b[49m\u001b[43m,\u001b[49m\n\u001b[1;32m    803\u001b[0m \u001b[43m        \u001b[49m\u001b[43mname\u001b[49m\u001b[38;5;241;43m=\u001b[39;49m\u001b[43mname\u001b[49m\u001b[43m,\u001b[49m\n\u001b[1;32m    804\u001b[0m \u001b[43m        \u001b[49m\u001b[43mconfig\u001b[49m\u001b[38;5;241;43m=\u001b[39;49m\u001b[43mconfig\u001b[49m\u001b[43m,\u001b[49m\n\u001b[1;32m    805\u001b[0m \u001b[43m        \u001b[49m\u001b[43mraw_config\u001b[49m\u001b[38;5;241;43m=\u001b[39;49m\u001b[43mraw_config\u001b[49m\u001b[43m,\u001b[49m\n\u001b[1;32m    806\u001b[0m \u001b[43m        \u001b[49m\u001b[43mvalidate\u001b[49m\u001b[38;5;241;43m=\u001b[39;49m\u001b[43mvalidate\u001b[49m\u001b[43m,\u001b[49m\n\u001b[1;32m    807\u001b[0m \u001b[43m    \u001b[49m\u001b[43m)\u001b[49m\n\u001b[1;32m    808\u001b[0m pipe_index \u001b[38;5;241m=\u001b[39m \u001b[38;5;28mself\u001b[39m\u001b[38;5;241m.\u001b[39m_get_pipe_index(before, after, first, last)\n\u001b[1;32m    809\u001b[0m \u001b[38;5;28mself\u001b[39m\u001b[38;5;241m.\u001b[39m_pipe_meta[name] \u001b[38;5;241m=\u001b[39m \u001b[38;5;28mself\u001b[39m\u001b[38;5;241m.\u001b[39mget_factory_meta(factory_name)\n",
      "File \u001b[0;32m~/.local/lib/python3.11/site-packages/spacy/language.py:680\u001b[0m, in \u001b[0;36mLanguage.create_pipe\u001b[0;34m(self, factory_name, name, config, raw_config, validate)\u001b[0m\n\u001b[1;32m    677\u001b[0m cfg \u001b[38;5;241m=\u001b[39m {factory_name: config}\n\u001b[1;32m    678\u001b[0m \u001b[38;5;66;03m# We're calling the internal _fill here to avoid constructing the\u001b[39;00m\n\u001b[1;32m    679\u001b[0m \u001b[38;5;66;03m# registered functions twice\u001b[39;00m\n\u001b[0;32m--> 680\u001b[0m resolved \u001b[38;5;241m=\u001b[39m \u001b[43mregistry\u001b[49m\u001b[38;5;241;43m.\u001b[39;49m\u001b[43mresolve\u001b[49m\u001b[43m(\u001b[49m\u001b[43mcfg\u001b[49m\u001b[43m,\u001b[49m\u001b[43m \u001b[49m\u001b[43mvalidate\u001b[49m\u001b[38;5;241;43m=\u001b[39;49m\u001b[43mvalidate\u001b[49m\u001b[43m)\u001b[49m\n\u001b[1;32m    681\u001b[0m filled \u001b[38;5;241m=\u001b[39m registry\u001b[38;5;241m.\u001b[39mfill({\u001b[38;5;124m\"\u001b[39m\u001b[38;5;124mcfg\u001b[39m\u001b[38;5;124m\"\u001b[39m: cfg[factory_name]}, validate\u001b[38;5;241m=\u001b[39mvalidate)[\u001b[38;5;124m\"\u001b[39m\u001b[38;5;124mcfg\u001b[39m\u001b[38;5;124m\"\u001b[39m]\n\u001b[1;32m    682\u001b[0m filled \u001b[38;5;241m=\u001b[39m Config(filled)\n",
      "File \u001b[0;32m~/.local/lib/python3.11/site-packages/confection/__init__.py:733\u001b[0m, in \u001b[0;36mregistry.resolve\u001b[0;34m(cls, config, schema, overrides, validate)\u001b[0m\n\u001b[1;32m    724\u001b[0m \u001b[38;5;129m@classmethod\u001b[39m\n\u001b[1;32m    725\u001b[0m \u001b[38;5;28;01mdef\u001b[39;00m \u001b[38;5;21mresolve\u001b[39m(\n\u001b[1;32m    726\u001b[0m     \u001b[38;5;28mcls\u001b[39m,\n\u001b[0;32m   (...)\u001b[0m\n\u001b[1;32m    731\u001b[0m     validate: \u001b[38;5;28mbool\u001b[39m \u001b[38;5;241m=\u001b[39m \u001b[38;5;28;01mTrue\u001b[39;00m,\n\u001b[1;32m    732\u001b[0m ) \u001b[38;5;241m-\u001b[39m\u001b[38;5;241m>\u001b[39m Dict[\u001b[38;5;28mstr\u001b[39m, Any]:\n\u001b[0;32m--> 733\u001b[0m     resolved, _ \u001b[38;5;241m=\u001b[39m \u001b[38;5;28;43mcls\u001b[39;49m\u001b[38;5;241;43m.\u001b[39;49m\u001b[43m_make\u001b[49m\u001b[43m(\u001b[49m\n\u001b[1;32m    734\u001b[0m \u001b[43m        \u001b[49m\u001b[43mconfig\u001b[49m\u001b[43m,\u001b[49m\u001b[43m \u001b[49m\u001b[43mschema\u001b[49m\u001b[38;5;241;43m=\u001b[39;49m\u001b[43mschema\u001b[49m\u001b[43m,\u001b[49m\u001b[43m \u001b[49m\u001b[43moverrides\u001b[49m\u001b[38;5;241;43m=\u001b[39;49m\u001b[43moverrides\u001b[49m\u001b[43m,\u001b[49m\u001b[43m \u001b[49m\u001b[43mvalidate\u001b[49m\u001b[38;5;241;43m=\u001b[39;49m\u001b[43mvalidate\u001b[49m\u001b[43m,\u001b[49m\u001b[43m \u001b[49m\u001b[43mresolve\u001b[49m\u001b[38;5;241;43m=\u001b[39;49m\u001b[38;5;28;43;01mTrue\u001b[39;49;00m\n\u001b[1;32m    735\u001b[0m \u001b[43m    \u001b[49m\u001b[43m)\u001b[49m\n\u001b[1;32m    736\u001b[0m     \u001b[38;5;28;01mreturn\u001b[39;00m resolved\n",
      "File \u001b[0;32m~/.local/lib/python3.11/site-packages/confection/__init__.py:782\u001b[0m, in \u001b[0;36mregistry._make\u001b[0;34m(cls, config, schema, overrides, resolve, validate)\u001b[0m\n\u001b[1;32m    780\u001b[0m \u001b[38;5;28;01mif\u001b[39;00m \u001b[38;5;129;01mnot\u001b[39;00m is_interpolated:\n\u001b[1;32m    781\u001b[0m     config \u001b[38;5;241m=\u001b[39m Config(orig_config)\u001b[38;5;241m.\u001b[39minterpolate()\n\u001b[0;32m--> 782\u001b[0m filled, _, resolved \u001b[38;5;241m=\u001b[39m \u001b[38;5;28;43mcls\u001b[39;49m\u001b[38;5;241;43m.\u001b[39;49m\u001b[43m_fill\u001b[49m\u001b[43m(\u001b[49m\n\u001b[1;32m    783\u001b[0m \u001b[43m    \u001b[49m\u001b[43mconfig\u001b[49m\u001b[43m,\u001b[49m\u001b[43m \u001b[49m\u001b[43mschema\u001b[49m\u001b[43m,\u001b[49m\u001b[43m \u001b[49m\u001b[43mvalidate\u001b[49m\u001b[38;5;241;43m=\u001b[39;49m\u001b[43mvalidate\u001b[49m\u001b[43m,\u001b[49m\u001b[43m \u001b[49m\u001b[43moverrides\u001b[49m\u001b[38;5;241;43m=\u001b[39;49m\u001b[43moverrides\u001b[49m\u001b[43m,\u001b[49m\u001b[43m \u001b[49m\u001b[43mresolve\u001b[49m\u001b[38;5;241;43m=\u001b[39;49m\u001b[43mresolve\u001b[49m\n\u001b[1;32m    784\u001b[0m \u001b[43m\u001b[49m\u001b[43m)\u001b[49m\n\u001b[1;32m    785\u001b[0m filled \u001b[38;5;241m=\u001b[39m Config(filled, section_order\u001b[38;5;241m=\u001b[39msection_order)\n\u001b[1;32m    786\u001b[0m \u001b[38;5;66;03m# Check that overrides didn't include invalid properties not in config\u001b[39;00m\n",
      "File \u001b[0;32m~/.local/lib/python3.11/site-packages/confection/__init__.py:837\u001b[0m, in \u001b[0;36mregistry._fill\u001b[0;34m(cls, config, schema, validate, resolve, parent, overrides)\u001b[0m\n\u001b[1;32m    835\u001b[0m     schema\u001b[38;5;241m.\u001b[39m__fields__[key] \u001b[38;5;241m=\u001b[39m copy_model_field(field, Any)\n\u001b[1;32m    836\u001b[0m promise_schema \u001b[38;5;241m=\u001b[39m \u001b[38;5;28mcls\u001b[39m\u001b[38;5;241m.\u001b[39mmake_promise_schema(value, resolve\u001b[38;5;241m=\u001b[39mresolve)\n\u001b[0;32m--> 837\u001b[0m filled[key], validation[v_key], final[key] \u001b[38;5;241m=\u001b[39m \u001b[38;5;28;43mcls\u001b[39;49m\u001b[38;5;241;43m.\u001b[39;49m\u001b[43m_fill\u001b[49m\u001b[43m(\u001b[49m\n\u001b[1;32m    838\u001b[0m \u001b[43m    \u001b[49m\u001b[43mvalue\u001b[49m\u001b[43m,\u001b[49m\n\u001b[1;32m    839\u001b[0m \u001b[43m    \u001b[49m\u001b[43mpromise_schema\u001b[49m\u001b[43m,\u001b[49m\n\u001b[1;32m    840\u001b[0m \u001b[43m    \u001b[49m\u001b[43mvalidate\u001b[49m\u001b[38;5;241;43m=\u001b[39;49m\u001b[43mvalidate\u001b[49m\u001b[43m,\u001b[49m\n\u001b[1;32m    841\u001b[0m \u001b[43m    \u001b[49m\u001b[43mresolve\u001b[49m\u001b[38;5;241;43m=\u001b[39;49m\u001b[43mresolve\u001b[49m\u001b[43m,\u001b[49m\n\u001b[1;32m    842\u001b[0m \u001b[43m    \u001b[49m\u001b[43mparent\u001b[49m\u001b[38;5;241;43m=\u001b[39;49m\u001b[43mkey_parent\u001b[49m\u001b[43m,\u001b[49m\n\u001b[1;32m    843\u001b[0m \u001b[43m    \u001b[49m\u001b[43moverrides\u001b[49m\u001b[38;5;241;43m=\u001b[39;49m\u001b[43moverrides\u001b[49m\u001b[43m,\u001b[49m\n\u001b[1;32m    844\u001b[0m \u001b[43m\u001b[49m\u001b[43m)\u001b[49m\n\u001b[1;32m    845\u001b[0m reg_name, func_name \u001b[38;5;241m=\u001b[39m \u001b[38;5;28mcls\u001b[39m\u001b[38;5;241m.\u001b[39mget_constructor(final[key])\n\u001b[1;32m    846\u001b[0m args, kwargs \u001b[38;5;241m=\u001b[39m \u001b[38;5;28mcls\u001b[39m\u001b[38;5;241m.\u001b[39mparse_args(final[key])\n",
      "File \u001b[0;32m~/.local/lib/python3.11/site-packages/confection/__init__.py:903\u001b[0m, in \u001b[0;36mregistry._fill\u001b[0;34m(cls, config, schema, validate, resolve, parent, overrides)\u001b[0m\n\u001b[1;32m    901\u001b[0m         result \u001b[38;5;241m=\u001b[39m schema\u001b[38;5;241m.\u001b[39mparse_obj(validation)\n\u001b[1;32m    902\u001b[0m     \u001b[38;5;28;01mexcept\u001b[39;00m ValidationError \u001b[38;5;28;01mas\u001b[39;00m e:\n\u001b[0;32m--> 903\u001b[0m         \u001b[38;5;28;01mraise\u001b[39;00m ConfigValidationError(\n\u001b[1;32m    904\u001b[0m             config\u001b[38;5;241m=\u001b[39mconfig, errors\u001b[38;5;241m=\u001b[39me\u001b[38;5;241m.\u001b[39merrors(), parent\u001b[38;5;241m=\u001b[39mparent\n\u001b[1;32m    905\u001b[0m         ) \u001b[38;5;28;01mfrom\u001b[39;00m \u001b[38;5;28;01mNone\u001b[39;00m\n\u001b[1;32m    906\u001b[0m \u001b[38;5;28;01melse\u001b[39;00m:\n\u001b[1;32m    907\u001b[0m     \u001b[38;5;66;03m# Same as parse_obj, but without validation\u001b[39;00m\n\u001b[1;32m    908\u001b[0m     result \u001b[38;5;241m=\u001b[39m schema\u001b[38;5;241m.\u001b[39mconstruct(\u001b[38;5;241m*\u001b[39m\u001b[38;5;241m*\u001b[39mvalidation)\n",
      "\u001b[0;31mConfigValidationError\u001b[0m: \n\nConfig validation error\ntagger -> label_smoothing\textra fields not permitted\n{'nlp': <spacy.lang.en.English object at 0x7f8ed7059dd0>, 'name': 'tagger', 'label_smoothing': 0.0, 'model': {'@architectures': 'spacy.Tagger.v2', 'nO': None, 'normalize': False, 'tok2vec': {'@architectures': 'spacy-transformers.TransformerListener.v1', 'grad_factor': 1.0, 'upstream': 'transformer', 'pooling': {'@layers': 'reduce_mean.v1'}}}, 'neg_prefix': '!', 'overwrite': False, 'scorer': {'@scorers': 'spacy.tagger_scorer.v1'}, '@factories': 'tagger'}"
     ]
    }
   ],
   "source": [
    "import json, os, spacy\n",
    "\n",
    "os.environ['OMP_NUM_THREADS'] = '3'\n",
    "#parser_path = \"/home/ralf/models/en_core_sci_lg-0.5.1/en_core_sci_lg/en_core_sci_lg-0.5.1\"\n",
    "parser_path = \"en_core_sci_sm\"\n",
    "parser_path = \"en_core_web_trf\"\n",
    "dataset_path = \"/home/ralf/IdeaProjects/LitBall-training/EXP-Title+TLDR/\"\n",
    "text_key = \"originalTitle\"\n",
    "\n",
    "# Load the spaCy language model:\n",
    "nlp = spacy.load(parser_path)"
   ]
  },
  {
   "cell_type": "code",
   "execution_count": 152,
   "metadata": {},
   "outputs": [
    {
     "data": {
      "text/plain": [
       "'In-vitro effect of human cathelicidin antimicrobial peptide LL-37 on dengue virus type 2'"
      ]
     },
     "execution_count": 152,
     "metadata": {},
     "output_type": "execute_result"
    }
   ],
   "source": [
    "s = \"In-vitro effect of human cathelicidin antimicrobial peptide LL-37 on dengue virus type 2\"\n",
    "nlp(s).text"
   ]
  },
  {
   "cell_type": "code",
   "execution_count": 99,
   "metadata": {
    "execution": {
     "iopub.execute_input": "2022-12-14T12:26:52.363724Z",
     "iopub.status.busy": "2022-12-14T12:26:52.363466Z",
     "iopub.status.idle": "2022-12-14T12:26:54.305215Z",
     "shell.execute_reply": "2022-12-14T12:26:54.304527Z"
    },
    "id": "RsCV2oAS7gC_"
   },
   "outputs": [],
   "source": [
    "import tensorflow_decision_forests as tfdf\n",
    "\n",
    "import os\n",
    "import numpy as np\n",
    "import pandas as pd\n",
    "import tensorflow as tf\n",
    "import math\n",
    "import json"
   ]
  },
  {
   "cell_type": "code",
   "execution_count": 100,
   "metadata": {
    "cellView": "form",
    "execution": {
     "iopub.execute_input": "2022-12-14T12:26:54.310354Z",
     "iopub.status.busy": "2022-12-14T12:26:54.308974Z",
     "iopub.status.idle": "2022-12-14T12:26:54.313977Z",
     "shell.execute_reply": "2022-12-14T12:26:54.313392Z"
    },
    "id": "jZXB4o6Tlu0i"
   },
   "outputs": [],
   "source": [
    "#@title\n",
    "\n",
    "from IPython.core.magic import register_line_magic\n",
    "from IPython.display import Javascript\n",
    "from IPython.display import display as ipy_display\n",
    "\n",
    "# Some of the model training logs can cover the full\n",
    "# screen if not compressed to a smaller viewport.\n",
    "# This magic allows setting a max height for a cell.\n",
    "@register_line_magic\n",
    "def set_cell_height(size):\n",
    "  ipy_display(\n",
    "      Javascript(\"google.colab.output.setIframeHeight(0, true, {maxHeight: \" +\n",
    "                 str(size) + \"})\"))"
   ]
  },
  {
   "cell_type": "code",
   "execution_count": 153,
   "metadata": {},
   "outputs": [
    {
     "name": "stdout",
     "output_type": "stream",
     "text": [
      "22996\n",
      "carbocisteine inhibit respiratory_syncytial_virus_infection human tracheal_epithelial_cell carbocisteine inhibit virus_infection expression_icam rs_virus_receptor modulate airway inflammation rsirus_infection\n",
      "8679\n",
      "vitro effect human cathelicidin dengue_virus_type_2_‐ experiment ‐_silico analysis inhibit dengue_virus_type_2 denv_‐_2 infection_replication_vero_e6_cell bind_e_protein\n"
     ]
    }
   ],
   "source": [
    "import json\n",
    "dataset_path = \"/home/ralf/IdeaProjects/LitBall-training/EXP-Title+TLDR/\"\n",
    "text_key = \"preprocessedText\"\n",
    "docs = []\n",
    "larr1 = []\n",
    "with open(dataset_path + \"ROTVRSV\") as file:\n",
    "    lines = file.readlines()\n",
    "    for line in lines:\n",
    "        d = json.loads(line)\n",
    "        docs.append(d[text_key])\n",
    "        larr1.append(d[\"label\"])\n",
    "\n",
    "tdocs = []\n",
    "larr2 = []\n",
    "with open(dataset_path + \"DENV\") as file:\n",
    "    lines = file.readlines()\n",
    "    for line in lines:\n",
    "        d = json.loads(line)\n",
    "        tdocs.append(d[text_key])\n",
    "        larr2.append(d[\"label\"])\n",
    "\n",
    "        # Tokenize the documents.\n",
    "\n",
    "def tok(s):\n",
    "    return '_'.join(s.split(' '))\n",
    "\n",
    "# Get entities from documents.\n",
    "for idx in range(len(docs)):\n",
    "    docs[idx] = docs[idx].lower()  # Convert to lowercase.\n",
    "    docs[idx] = ' '.join([tok(t.text) for t in nlp(docs[idx]).ents])\n",
    "for idx in range(len(tdocs)):\n",
    "    tdocs[idx] = tdocs[idx].lower()  # Convert to lowercase.\n",
    "    tdocs[idx] = ' '.join([tok(t.text) for t in nlp(tdocs[idx]).ents])\n",
    "\n",
    "print(len(docs))\n",
    "print(docs[0][:500])\n",
    "print(len(tdocs))\n",
    "print(tdocs[0][:500])"
   ]
  },
  {
   "cell_type": "code",
   "execution_count": 154,
   "metadata": {
    "execution": {
     "iopub.execute_input": "2022-12-14T12:26:55.925820Z",
     "iopub.status.busy": "2022-12-14T12:26:55.925271Z",
     "iopub.status.idle": "2022-12-14T12:27:00.827053Z",
     "shell.execute_reply": "2022-12-14T12:27:00.826354Z"
    },
    "id": "uVN-j0E4Q1T3"
   },
   "outputs": [
    {
     "name": "stdout",
     "output_type": "stream",
     "text": [
      "Made datasets\n"
     ]
    }
   ],
   "source": [
    "# Load the dataset\n",
    "import tensorflow_datasets as tfds\n",
    "import tensorflow as tf\n",
    "import pandas as pd\n",
    "\n",
    "in_memory_file1 = io.StringIO()\n",
    "for i in range(len(docs)):\n",
    "    in_memory_file1.write(json.dumps({ text_key: docs[i], \"label\": larr1[i] }) + '\\n')\n",
    "in_memory_file1.seek(0)\n",
    "in_memory_file2 = io.StringIO()\n",
    "for i in range(len(tdocs)):\n",
    "    in_memory_file2.write(json.dumps({ text_key: tdocs[i], \"label\": larr2[i] }) + '\\n')\n",
    "in_memory_file2.seek(0)\n",
    "\n",
    "trds = pd.read_json(in_memory_file1,\n",
    "                 dtype={text_key: str, \"label\": str},\n",
    "                lines=True\n",
    "                 )\n",
    "teds = pd.read_json(in_memory_file2,\n",
    "                 dtype={text_key: str, \"label\": str},\n",
    "                lines=True\n",
    "                 )\n",
    "tr_ds = tfdf.keras.pd_dataframe_to_tf_dataset(trds, label=\"label\")\n",
    "te_ds = tfdf.keras.pd_dataframe_to_tf_dataset(teds, label=\"label\")\n",
    "\n",
    "dataset_path = \"/home/ralf/IdeaProjects/LitBall-training/EXP-Title+TLDR/\"\n",
    "with open(dataset_path + \"DENV\") as file:\n",
    "    test_lines = file.readlines()\n",
    "    \n",
    "print(\"Made datasets\")"
   ]
  },
  {
   "cell_type": "code",
   "execution_count": 155,
   "metadata": {
    "execution": {
     "iopub.execute_input": "2022-12-14T12:27:00.831031Z",
     "iopub.status.busy": "2022-12-14T12:27:00.830774Z",
     "iopub.status.idle": "2022-12-14T12:27:00.919993Z",
     "shell.execute_reply": "2022-12-14T12:27:00.919392Z"
    },
    "id": "yqYDKTKdSPYw"
   },
   "outputs": [],
   "source": [
    "def prepare_dataset1(example, label):\n",
    "    return {\"sentence\" : tf.strings.split(example[text_key])}, label\n",
    "\n",
    "def prepare_dataset2(s):\n",
    "    m = json.loads(s)\n",
    "    sp = tf.strings.split(m[text_key])\n",
    "    return m\n",
    "\n",
    "train_ds = tr_ds.map(prepare_dataset1)\n",
    "test_ds = te_ds.map(prepare_dataset1)\n",
    "    \n",
    "test_cases = list(map(prepare_dataset2, test_lines))"
   ]
  },
  {
   "cell_type": "code",
   "execution_count": 156,
   "metadata": {
    "execution": {
     "iopub.execute_input": "2022-12-14T12:27:00.923884Z",
     "iopub.status.busy": "2022-12-14T12:27:00.923343Z",
     "iopub.status.idle": "2022-12-14T12:27:53.858309Z",
     "shell.execute_reply": "2022-12-14T12:27:53.857637Z"
    },
    "id": "mpxTtYo39wYZ"
   },
   "outputs": [
    {
     "data": {
      "application/javascript": [
       "google.colab.output.setIframeHeight(0, true, {maxHeight: 300})"
      ],
      "text/plain": [
       "<IPython.core.display.Javascript object>"
      ]
     },
     "metadata": {},
     "output_type": "display_data"
    },
    {
     "name": "stdout",
     "output_type": "stream",
     "text": [
      "Use /tmp/tmpm08wukpe as temporary training directory\n",
      "Warning: Model constructor argument batch_size=None not supported. See https://www.tensorflow.org/decision_forests/migration for an explanation about the specificities of TF-DF.\n"
     ]
    },
    {
     "name": "stderr",
     "output_type": "stream",
     "text": [
      "WARNING:absl:Model constructor argument batch_size=None not supported. See https://www.tensorflow.org/decision_forests/migration for an explanation about the specificities of TF-DF.\n"
     ]
    },
    {
     "name": "stdout",
     "output_type": "stream",
     "text": [
      "Reading training dataset...\n",
      "Training tensor examples:\n",
      "Features: {'sentence': tf.RaggedTensor(values=Tensor(\"data:0\", shape=(None,), dtype=string), row_splits=Tensor(\"data_1:0\", shape=(None,), dtype=int64))}\n",
      "Label: Tensor(\"data_2:0\", shape=(None,), dtype=int64)\n",
      "Weights: None\n",
      "Normalized tensor features:\n",
      " {'sentence': SemanticTensor(semantic=<Semantic.CATEGORICAL_SET: 4>, tensor=tf.RaggedTensor(values=Tensor(\"data:0\", shape=(None,), dtype=string), row_splits=Tensor(\"data_1:0\", shape=(None,), dtype=int64)))}\n",
      "Training dataset read in 0:00:00.195249. Found 22996 examples.\n",
      "Training model...\n"
     ]
    },
    {
     "name": "stderr",
     "output_type": "stream",
     "text": [
      "2023-07-29 17:37:53.610246: I tensorflow/core/common_runtime/executor.cc:1197] [/device:CPU:0] (DEBUG INFO) Executor start aborting (this does not indicate an error and you can ignore this message): INVALID_ARGUMENT: You must feed a value for placeholder tensor 'Placeholder/_1' with dtype int64 and shape [22996]\n",
      "\t [[{{node Placeholder/_1}}]]\n",
      "[INFO 23-07-29 17:37:53.8056 CEST kernel.cc:773] Start Yggdrasil model training\n",
      "[INFO 23-07-29 17:37:53.8056 CEST kernel.cc:774] Collect training examples\n",
      "[INFO 23-07-29 17:37:53.8056 CEST kernel.cc:787] Dataspec guide:\n",
      "column_guides {\n",
      "  column_name_pattern: \"^__LABEL$\"\n",
      "  type: CATEGORICAL\n",
      "  categorial {\n",
      "    min_vocab_frequency: 0\n",
      "    max_vocab_count: -1\n",
      "  }\n",
      "}\n",
      "default_column_guide {\n",
      "  categorial {\n",
      "    max_vocab_count: 2000\n",
      "  }\n",
      "  discretized_numerical {\n",
      "    maximum_num_bins: 255\n",
      "  }\n",
      "}\n",
      "ignore_columns_without_guides: false\n",
      "detect_numerical_as_discretized_numerical: false\n",
      "\n",
      "[INFO 23-07-29 17:37:53.8057 CEST kernel.cc:393] Number of batches: 23\n",
      "[INFO 23-07-29 17:37:53.8057 CEST kernel.cc:394] Number of examples: 22996\n",
      "[INFO 23-07-29 17:37:53.8870 CEST data_spec_inference.cc:305] 74942 item(s) have been pruned (i.e. they are considered out of dictionary) for the column sentence (2000 item(s) left) because min_value_count=5 and max_number_of_unique_values=2000\n",
      "[INFO 23-07-29 17:37:53.9314 CEST kernel.cc:794] Training dataset:\n",
      "Number of records: 22996\n",
      "Number of columns: 2\n",
      "\n",
      "Number of columns by type:\n",
      "\tCATEGORICAL_SET: 1 (50%)\n",
      "\tCATEGORICAL: 1 (50%)\n",
      "\n",
      "Columns:\n",
      "\n",
      "CATEGORICAL_SET: 1 (50%)\n",
      "\t1: \"sentence\" CATEGORICAL_SET has-dict vocab-size:2001 num-oods:70902 (308.323%) most-frequent:\"<OOD>\" 70902 (308.323%)\n",
      "\n",
      "CATEGORICAL: 1 (50%)\n",
      "\t0: \"__LABEL\" CATEGORICAL integerized vocab-size:3 no-ood-item\n",
      "\n",
      "Terminology:\n",
      "\tnas: Number of non-available (i.e. missing) values.\n",
      "\tood: Out of dictionary.\n",
      "\tmanually-defined: Attribute which type is manually defined by the user i.e. the type was not automatically inferred.\n",
      "\ttokenized: The attribute value is obtained through tokenization.\n",
      "\thas-dict: The attribute is attached to a string dictionary e.g. a categorical attribute stored as a string.\n",
      "\tvocab-size: Number of unique values.\n",
      "\n",
      "[INFO 23-07-29 17:37:53.9315 CEST kernel.cc:810] Configure learner\n",
      "[INFO 23-07-29 17:37:53.9317 CEST kernel.cc:824] Training config:\n",
      "learner: \"RANDOM_FOREST\"\n",
      "features: \"^sentence$\"\n",
      "label: \"^__LABEL$\"\n",
      "task: CLASSIFICATION\n",
      "random_seed: 123456\n",
      "metadata {\n",
      "  framework: \"TF Keras\"\n",
      "}\n",
      "pure_serving_model: false\n",
      "[yggdrasil_decision_forests.model.random_forest.proto.random_forest_config] {\n",
      "  num_trees: 300\n",
      "  decision_tree {\n",
      "    max_depth: 16\n",
      "    min_examples: 5\n",
      "    in_split_min_examples_check: true\n",
      "    keep_non_leaf_label_distribution: true\n",
      "    num_candidate_attributes: 0\n",
      "    missing_value_policy: GLOBAL_IMPUTATION\n",
      "    allow_na_conditions: false\n",
      "    categorical_set_greedy_forward {\n",
      "      sampling: 0.1\n",
      "      max_num_items: -1\n",
      "      min_item_frequency: 1\n",
      "    }\n",
      "    growing_strategy_local {\n",
      "    }\n",
      "    categorical {\n",
      "      cart {\n",
      "      }\n",
      "    }\n",
      "    axis_aligned_split {\n",
      "    }\n",
      "    internal {\n",
      "      sorting_strategy: PRESORTED\n",
      "    }\n",
      "    uplift {\n",
      "      min_examples_in_treatment: 5\n",
      "      split_score: KULLBACK_LEIBLER\n",
      "    }\n",
      "  }\n",
      "  winner_take_all_inference: true\n",
      "  compute_oob_performances: true\n",
      "  compute_oob_variable_importances: false\n",
      "  num_oob_variable_importances_permutations: 1\n",
      "  bootstrap_training_dataset: true\n",
      "  bootstrap_size_ratio: 1\n",
      "  adapt_bootstrap_size_ratio_for_maximum_training_duration: false\n",
      "  sampling_with_replacement: true\n",
      "}\n",
      "\n",
      "[INFO 23-07-29 17:37:53.9319 CEST kernel.cc:827] Deployment config:\n",
      "cache_path: \"/tmp/tmpm08wukpe/working_cache\"\n",
      "num_threads: 3\n",
      "try_resume_training: true\n",
      "\n",
      "[INFO 23-07-29 17:37:53.9321 CEST kernel.cc:889] Train model\n",
      "[INFO 23-07-29 17:37:53.9326 CEST random_forest.cc:416] Training random forest on 22996 example(s) and 1 feature(s).\n",
      "[INFO 23-07-29 17:38:00.8523 CEST random_forest.cc:802] Training of tree  1/300 (tree index:0) done accuracy:0.720944 logloss:10.0582\n",
      "[INFO 23-07-29 17:38:14.8078 CEST random_forest.cc:802] Training of tree  7/300 (tree index:8) done accuracy:0.742164 logloss:4.70714\n",
      "[INFO 23-07-29 17:38:28.6608 CEST random_forest.cc:802] Training of tree  13/300 (tree index:14) done accuracy:0.764726 logloss:2.49712\n",
      "[INFO 23-07-29 17:38:42.0009 CEST random_forest.cc:802] Training of tree  19/300 (tree index:18) done accuracy:0.775444 logloss:1.67392\n",
      "[INFO 23-07-29 17:38:55.9472 CEST random_forest.cc:802] Training of tree  25/300 (tree index:25) done accuracy:0.78317 logloss:1.31786\n",
      "[INFO 23-07-29 17:39:09.8143 CEST random_forest.cc:802] Training of tree  31/300 (tree index:31) done accuracy:0.785876 logloss:1.13355\n",
      "[INFO 23-07-29 17:39:23.2620 CEST random_forest.cc:802] Training of tree  37/300 (tree index:36) done accuracy:0.789137 logloss:1.00746\n",
      "[INFO 23-07-29 17:39:37.3205 CEST random_forest.cc:802] Training of tree  43/300 (tree index:42) done accuracy:0.793877 logloss:0.942851\n",
      "[INFO 23-07-29 17:39:51.2163 CEST random_forest.cc:802] Training of tree  49/300 (tree index:48) done accuracy:0.794312 logloss:0.904575\n",
      "[INFO 23-07-29 17:40:05.0674 CEST random_forest.cc:802] Training of tree  55/300 (tree index:54) done accuracy:0.797704 logloss:0.878955\n",
      "[INFO 23-07-29 17:40:19.1625 CEST random_forest.cc:802] Training of tree  61/300 (tree index:60) done accuracy:0.798922 logloss:0.84936\n",
      "[INFO 23-07-29 17:40:33.2660 CEST random_forest.cc:802] Training of tree  67/300 (tree index:67) done accuracy:0.800096 logloss:0.723046\n",
      "[INFO 23-07-29 17:40:47.3595 CEST random_forest.cc:802] Training of tree  73/300 (tree index:74) done accuracy:0.800835 logloss:0.707736\n",
      "[INFO 23-07-29 17:41:01.0834 CEST random_forest.cc:802] Training of tree  79/300 (tree index:79) done accuracy:0.801313 logloss:0.687764\n",
      "[INFO 23-07-29 17:41:15.2739 CEST random_forest.cc:802] Training of tree  85/300 (tree index:85) done accuracy:0.802879 logloss:0.675938\n",
      "[INFO 23-07-29 17:41:28.9985 CEST random_forest.cc:802] Training of tree  91/300 (tree index:90) done accuracy:0.802357 logloss:0.662891\n",
      "[INFO 23-07-29 17:41:43.0591 CEST random_forest.cc:802] Training of tree  97/300 (tree index:96) done accuracy:0.803183 logloss:0.655431\n",
      "[INFO 23-07-29 17:41:57.1411 CEST random_forest.cc:802] Training of tree  103/300 (tree index:102) done accuracy:0.804314 logloss:0.652455\n",
      "[INFO 23-07-29 17:42:10.8381 CEST random_forest.cc:802] Training of tree  109/300 (tree index:108) done accuracy:0.804923 logloss:0.635218\n",
      "[INFO 23-07-29 17:42:24.8813 CEST random_forest.cc:802] Training of tree  115/300 (tree index:114) done accuracy:0.804618 logloss:0.632042\n",
      "[INFO 23-07-29 17:42:39.0851 CEST random_forest.cc:802] Training of tree  121/300 (tree index:120) done accuracy:0.80614 logloss:0.629032\n",
      "[INFO 23-07-29 17:42:52.7759 CEST random_forest.cc:802] Training of tree  127/300 (tree index:126) done accuracy:0.805836 logloss:0.628038\n",
      "[INFO 23-07-29 17:43:06.3526 CEST random_forest.cc:802] Training of tree  133/300 (tree index:132) done accuracy:0.80614 logloss:0.624823\n",
      "[INFO 23-07-29 17:43:20.6879 CEST random_forest.cc:802] Training of tree  139/300 (tree index:138) done accuracy:0.806271 logloss:0.620645\n",
      "[INFO 23-07-29 17:43:34.1332 CEST random_forest.cc:802] Training of tree  145/300 (tree index:144) done accuracy:0.80614 logloss:0.620717\n",
      "[INFO 23-07-29 17:43:48.5041 CEST random_forest.cc:802] Training of tree  151/300 (tree index:150) done accuracy:0.806966 logloss:0.616489\n",
      "[INFO 23-07-29 17:44:02.6478 CEST random_forest.cc:802] Training of tree  157/300 (tree index:156) done accuracy:0.80614 logloss:0.616573\n",
      "[INFO 23-07-29 17:44:16.4748 CEST random_forest.cc:802] Training of tree  163/300 (tree index:162) done accuracy:0.806401 logloss:0.616258\n",
      "[INFO 23-07-29 17:44:30.7780 CEST random_forest.cc:802] Training of tree  169/300 (tree index:168) done accuracy:0.807314 logloss:0.613122\n",
      "[INFO 23-07-29 17:44:44.4481 CEST random_forest.cc:802] Training of tree  175/300 (tree index:174) done accuracy:0.807532 logloss:0.610307\n",
      "[INFO 23-07-29 17:44:57.5750 CEST random_forest.cc:802] Training of tree  181/300 (tree index:180) done accuracy:0.807358 logloss:0.606037\n",
      "[INFO 23-07-29 17:45:11.8250 CEST random_forest.cc:802] Training of tree  187/300 (tree index:186) done accuracy:0.806749 logloss:0.604708\n"
     ]
    },
    {
     "name": "stderr",
     "output_type": "stream",
     "text": [
      "[INFO 23-07-29 17:45:25.8723 CEST random_forest.cc:802] Training of tree  193/300 (tree index:192) done accuracy:0.807227 logloss:0.603354\n",
      "[INFO 23-07-29 17:45:39.8886 CEST random_forest.cc:802] Training of tree  199/300 (tree index:198) done accuracy:0.807271 logloss:0.600344\n",
      "[INFO 23-07-29 17:45:50.1153 CEST random_forest.cc:802] Training of tree  204/300 (tree index:203) done accuracy:0.807097 logloss:0.59895\n",
      "[INFO 23-07-29 17:46:00.5682 CEST random_forest.cc:802] Training of tree  208/300 (tree index:207) done accuracy:0.807097 logloss:0.598938\n",
      "[INFO 23-07-29 17:46:10.8322 CEST random_forest.cc:802] Training of tree  213/300 (tree index:212) done accuracy:0.806749 logloss:0.597333\n",
      "[INFO 23-07-29 17:46:21.8113 CEST random_forest.cc:802] Training of tree  217/300 (tree index:216) done accuracy:0.807271 logloss:0.59591\n",
      "[INFO 23-07-29 17:46:31.9384 CEST random_forest.cc:802] Training of tree  222/300 (tree index:221) done accuracy:0.807097 logloss:0.595949\n",
      "[INFO 23-07-29 17:46:43.1688 CEST random_forest.cc:802] Training of tree  226/300 (tree index:225) done accuracy:0.807053 logloss:0.593142\n",
      "[INFO 23-07-29 17:46:53.5162 CEST random_forest.cc:802] Training of tree  231/300 (tree index:230) done accuracy:0.807227 logloss:0.590403\n",
      "[INFO 23-07-29 17:47:04.7566 CEST random_forest.cc:802] Training of tree  235/300 (tree index:234) done accuracy:0.807619 logloss:0.588981\n",
      "[INFO 23-07-29 17:47:18.2698 CEST random_forest.cc:802] Training of tree  241/300 (tree index:240) done accuracy:0.807619 logloss:0.587678\n",
      "[INFO 23-07-29 17:47:28.3531 CEST random_forest.cc:802] Training of tree  246/300 (tree index:245) done accuracy:0.807401 logloss:0.587739\n",
      "[INFO 23-07-29 17:47:39.0243 CEST random_forest.cc:802] Training of tree  250/300 (tree index:249) done accuracy:0.807488 logloss:0.587853\n",
      "[INFO 23-07-29 17:47:49.8826 CEST random_forest.cc:802] Training of tree  255/300 (tree index:254) done accuracy:0.807445 logloss:0.587849\n",
      "[INFO 23-07-29 17:48:01.0493 CEST random_forest.cc:802] Training of tree  260/300 (tree index:259) done accuracy:0.808184 logloss:0.586351\n",
      "[INFO 23-07-29 17:48:13.6088 CEST random_forest.cc:802] Training of tree  265/300 (tree index:264) done accuracy:0.807401 logloss:0.58344\n",
      "[INFO 23-07-29 17:48:24.8022 CEST random_forest.cc:802] Training of tree  270/300 (tree index:269) done accuracy:0.808141 logloss:0.581991\n",
      "[INFO 23-07-29 17:48:35.1030 CEST random_forest.cc:802] Training of tree  275/300 (tree index:274) done accuracy:0.807967 logloss:0.577839\n",
      "[INFO 23-07-29 17:48:45.9863 CEST random_forest.cc:802] Training of tree  279/300 (tree index:278) done accuracy:0.807532 logloss:0.577953\n",
      "[INFO 23-07-29 17:49:00.1700 CEST random_forest.cc:802] Training of tree  285/300 (tree index:284) done accuracy:0.807314 logloss:0.578073\n",
      "[INFO 23-07-29 17:49:14.2298 CEST random_forest.cc:802] Training of tree  291/300 (tree index:290) done accuracy:0.808097 logloss:0.577937\n",
      "[INFO 23-07-29 17:49:28.1255 CEST random_forest.cc:802] Training of tree  297/300 (tree index:296) done accuracy:0.807532 logloss:0.577848\n",
      "[INFO 23-07-29 17:49:34.7523 CEST random_forest.cc:802] Training of tree  300/300 (tree index:299) done accuracy:0.807619 logloss:0.576565\n",
      "[INFO 23-07-29 17:49:34.7524 CEST random_forest.cc:882] Final OOB metrics: accuracy:0.807619 logloss:0.576565\n",
      "[INFO 23-07-29 17:49:34.8107 CEST kernel.cc:926] Export model in log directory: /tmp/tmpm08wukpe with prefix 9c6c3c0ae1fb4a22\n",
      "[INFO 23-07-29 17:49:34.9957 CEST kernel.cc:944] Save model in resources\n",
      "[INFO 23-07-29 17:49:34.9982 CEST abstract_model.cc:849] Model self evaluation:\n",
      "Number of predictions (without weights): 22996\n",
      "Number of predictions (with weights): 22996\n",
      "Task: CLASSIFICATION\n",
      "Label: __LABEL\n",
      "\n",
      "Accuracy: 0.807619  CI95[W][0.803293 0.811887]\n",
      "LogLoss: : 0.576565\n",
      "ErrorRate: : 0.192381\n",
      "\n",
      "Default Accuracy: : 0.609367\n",
      "Default LogLoss: : 0.66903\n",
      "Default ErrorRate: : 0.390633\n",
      "\n",
      "Confusion Table:\n",
      "truth\\prediction\n",
      "   0      1     2\n",
      "0  0      0     0\n",
      "1  0  12407  1606\n",
      "2  0   2818  6165\n",
      "Total: 22996\n",
      "\n",
      "One vs other classes:\n",
      "\n",
      "[INFO 23-07-29 17:49:35.0913 CEST kernel.cc:1243] Loading model from path /tmp/tmpm08wukpe/model/ with prefix 9c6c3c0ae1fb4a22\n",
      "[INFO 23-07-29 17:49:36.6480 CEST decision_forest.cc:660] Model loaded with 300 root(s), 334696 node(s), and 1 input feature(s).\n",
      "[INFO 23-07-29 17:49:36.6480 CEST abstract_model.cc:1311] Engine \"RandomForestGeneric\" built\n",
      "[INFO 23-07-29 17:49:36.6480 CEST kernel.cc:1075] Use fast generic engine\n"
     ]
    },
    {
     "name": "stdout",
     "output_type": "stream",
     "text": [
      "Model trained in 0:11:42.902136\n",
      "Compiling model...\n"
     ]
    },
    {
     "name": "stderr",
     "output_type": "stream",
     "text": [
      "2023-07-29 17:49:36.772385: I tensorflow/core/common_runtime/executor.cc:1197] [/device:CPU:0] (DEBUG INFO) Executor start aborting (this does not indicate an error and you can ignore this message): INVALID_ARGUMENT: You must feed a value for placeholder tensor 'Placeholder/_1' with dtype int64 and shape [22996]\n",
      "\t [[{{node Placeholder/_1}}]]\n"
     ]
    },
    {
     "name": "stdout",
     "output_type": "stream",
     "text": [
      "Model compiled.\n"
     ]
    },
    {
     "data": {
      "text/plain": [
       "<keras.callbacks.History at 0x7f8edf23ec50>"
      ]
     },
     "execution_count": 156,
     "metadata": {},
     "output_type": "execute_result"
    }
   ],
   "source": [
    "%set_cell_height 300\n",
    "\n",
    "# Specify the model.\n",
    "model_1 = tfdf.keras.RandomForestModel(num_trees=300, verbose=2, num_threads=3)\n",
    "\n",
    "# Train the model.\n",
    "model_1.fit(x=train_ds, batch_size=None)"
   ]
  },
  {
   "cell_type": "code",
   "execution_count": 157,
   "metadata": {
    "execution": {
     "iopub.execute_input": "2022-12-14T12:27:53.861879Z",
     "iopub.status.busy": "2022-12-14T12:27:53.861292Z",
     "iopub.status.idle": "2022-12-14T12:27:54.395342Z",
     "shell.execute_reply": "2022-12-14T12:27:54.394656Z"
    },
    "id": "cpf-wHl094S1",
    "scrolled": true
   },
   "outputs": [
    {
     "name": "stderr",
     "output_type": "stream",
     "text": [
      "2023-07-29 17:53:24.965063: I tensorflow/core/common_runtime/executor.cc:1197] [/device:CPU:0] (DEBUG INFO) Executor start aborting (this does not indicate an error and you can ignore this message): INVALID_ARGUMENT: You must feed a value for placeholder tensor 'Placeholder/_1' with dtype int64 and shape [8679]\n",
      "\t [[{{node Placeholder/_1}}]]\n"
     ]
    },
    {
     "name": "stdout",
     "output_type": "stream",
     "text": [
      "9/9 [==============================] - 1s 129ms/step - loss: 0.0000e+00 - accuracy: 0.8540\n",
      "BinaryCrossentropyloss: 0.0\n",
      "Accuracy: 0.8540154099464417\n"
     ]
    }
   ],
   "source": [
    "model_1.compile(metrics=[\"accuracy\"])\n",
    "evaluation = model_1.evaluate(test_ds, batch_size=None)\n",
    "\n",
    "print(f\"BinaryCrossentropyloss: {evaluation[0]}\")\n",
    "print(f\"Accuracy: {evaluation[1]}\")"
   ]
  },
  {
   "cell_type": "code",
   "execution_count": 158,
   "metadata": {
    "execution": {
     "iopub.execute_input": "2022-12-14T12:27:54.399169Z",
     "iopub.status.busy": "2022-12-14T12:27:54.398503Z",
     "iopub.status.idle": "2022-12-14T12:27:54.837481Z",
     "shell.execute_reply": "2022-12-14T12:27:54.836829Z"
    },
    "id": "OnTTtBNmjpo7"
   },
   "outputs": [
    {
     "data": {
      "image/png": "[encoded data removed]",
      "text/plain": [
       "<Figure size 640x480 with 1 Axes>"
      ]
     },
     "metadata": {},
     "output_type": "display_data"
    }
   ],
   "source": [
    "import matplotlib.pyplot as plt\n",
    "\n",
    "logs = model_1.make_inspector().training_logs()\n",
    "plt.plot([log.num_trees for log in logs], [log.evaluation.accuracy for log in logs])\n",
    "plt.xlabel(\"Number of trees\")\n",
    "plt.ylabel(\"Out-of-bag accuracy\")\n",
    "pass"
   ]
  },
  {
   "cell_type": "code",
   "execution_count": 159,
   "metadata": {},
   "outputs": [
    {
     "name": "stdout",
     "output_type": "stream",
     "text": [
      "9/9 [==============================] - 1s 120ms/step\n",
      "cut: 0.25, acc: 0.6399354764373776, prec: 0.4147331786542923, rec: 0.9563085153811859, f1: 0.5785569790964261\n",
      "cut: 0.3, acc: 0.7151745592810231, prec: 0.4741709903000226, rec: 0.937137761925992, f1: 0.6297183942480526\n",
      "cut: 0.35, acc: 0.7657564235511004, prec: 0.5271037687145069, rec: 0.9103878733838608, f1: 0.667647539643616\n",
      "cut: 0.39999999999999997, acc: 0.8055075469524139, prec: 0.5822222222222222, rec: 0.8760588497547926, f1: 0.6995372018511924\n",
      "cut: 0.44999999999999996, acc: 0.8374236663210047, prec: 0.6421736158578264, rec: 0.8377173428444048, f1: 0.727026504159412\n",
      "cut: 0.49999999999999994, acc: 0.8540154395667704, prec: 0.6882716049382716, rec: 0.7953633526526973, f1: 0.7379524301964839\n",
      "cut: 0.5499999999999999, acc: 0.8641548565502938, prec: 0.7364444444444445, rec: 0.7387427552385198, f1: 0.7375918094814155\n",
      "cut: 0.5999999999999999, acc: 0.8641548565502938, prec: 0.7759336099585062, rec: 0.6669638876504681, f1: 0.7173339726684248\n",
      "cut: 0.6499999999999999, acc: 0.8611591197142527, prec: 0.8187960687960688, rec: 0.594293357111012, f1: 0.6887109274089382\n",
      "cut: 0.7, acc: 0.849867496255329, prec: 0.8476331360946746, rec: 0.5109228711547035, f1: 0.6375521557719054\n",
      "cut: 0.7499999999999999, acc: 0.8360410185505243, prec: 0.8817504655493482, rec: 0.4222024074899688, f1: 0.5709978896593307\n"
     ]
    }
   ],
   "source": [
    "p = model_1.predict(test_ds)\n",
    "\n",
    "#Fish for best cut\n",
    "for cut in np.arange(0.25, .8, .05):\n",
    "    tp = 0\n",
    "    tn = 0\n",
    "    fp = 0\n",
    "    fn = 0\n",
    "    N = len(p)\n",
    "    for i in range(N):\n",
    "        tru = test_cases[i][\"label\"] == '1'\n",
    "        prd = p[i] > cut\n",
    "        if tru and prd == tru:\n",
    "            tp = tp + 1\n",
    "        if tru and prd != tru:\n",
    "            fn = fn + 1\n",
    "        if tru == False and prd == tru:\n",
    "            tn = tn + 1\n",
    "        if tru == False and prd != tru:\n",
    "            fp = fp + 1\n",
    "    precision = tp/(tp+fp)\n",
    "    recall = tp/(tp+fn)\n",
    "    f1_score = 2 * (precision * recall) / (precision + recall)\n",
    "    print(\"cut: {}, acc: {}, prec: {}, rec: {}, f1: {}\".format(cut, (tp+tn)/N, precision, recall, f1_score))"
   ]
  },
  {
   "cell_type": "code",
   "execution_count": 15,
   "metadata": {},
   "outputs": [
    {
     "name": "stdout",
     "output_type": "stream",
     "text": [
      "c: 0.0, n = 6525, tru: 378\n",
      "c: 0.05, n = 6396, tru: 378\n",
      "c: 0.1, n = 5885, tru: 377\n",
      "c: 0.15000000000000002, n = 4983, tru: 376\n",
      "c: 0.2, n = 4009, tru: 374\n",
      "c: 0.25, n = 3139, tru: 368\n",
      "c: 0.30000000000000004, n = 2379, tru: 351\n",
      "c: 0.35000000000000003, n = 1765, tru: 323\n",
      "c: 0.4, n = 1261, tru: 281\n",
      "c: 0.45, n = 785, tru: 209\n"
     ]
    }
   ],
   "source": [
    "cut = 55\n",
    "N = len(p)\n",
    "with open(\"/home/ralf//IdeaProjects/LitBall-training/pred.json\", \"w\") as file:\n",
    "    for c in np.arange(0., .5, .05):\n",
    "        s = 0\n",
    "        t = 0\n",
    "        for i in range(N):\n",
    "            tru = test_cases[i][\"label\"] == '1'\n",
    "            val = int((p[i]+0.005) * 100)\n",
    "            pred = False\n",
    "            if val > cut:\n",
    "                pred = True\n",
    "            elif val > 100*c:\n",
    "                s = s+1\n",
    "                if tru:\n",
    "                    t = t+1\n",
    "        print(\"c: {}, n = {}, tru: {}\".format(c, s, t))"
   ]
  },
  {
   "cell_type": "code",
   "execution_count": null,
   "metadata": {},
   "outputs": [],
   "source": []
  }
 ],
 "metadata": {
  "colab": {
   "collapsed_sections": [],
   "name": "intermediate_colab.ipynb",
   "provenance": [],
   "toc_visible": true
  },
  "kernelspec": {
   "display_name": "Python 3 (ipykernel)",
   "language": "python",
   "name": "python3"
  },
  "language_info": {
   "codemirror_mode": {
    "name": "ipython",
    "version": 3
   },
   "file_extension": ".py",
   "mimetype": "text/x-python",
   "name": "python",
   "nbconvert_exporter": "python",
   "pygments_lexer": "ipython3",
   "version": "3.11.4"
  }
 },
 "nbformat": 4,
 "nbformat_minor": 1
}
