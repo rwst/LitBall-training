{
 "cells": [
  {
   "cell_type": "markdown",
   "metadata": {
    "id": "Tce3stUlHN0L"
   },
   "source": [
    "##### Copyright 2020 The TensorFlow Authors."
   ]
  },
  {
   "cell_type": "code",
   "execution_count": 1,
   "metadata": {
    "cellView": "form",
    "execution": {
     "iopub.execute_input": "2022-12-14T12:26:48.456774Z",
     "iopub.status.busy": "2022-12-14T12:26:48.456275Z",
     "iopub.status.idle": "2022-12-14T12:26:48.459954Z",
     "shell.execute_reply": "2022-12-14T12:26:48.459388Z"
    },
    "id": "tuOe1ymfHZPu"
   },
   "outputs": [],
   "source": [
    "#@title Licensed under the Apache License, Version 2.0 (the \"License\");\n",
    "# you may not use this file except in compliance with the License.\n",
    "# You may obtain a copy of the License at\n",
    "#\n",
    "# https://www.apache.org/licenses/LICENSE-2.0\n",
    "#\n",
    "# Unless required by applicable law or agreed to in writing, software\n",
    "# distributed under the License is distributed on an \"AS IS\" BASIS,\n",
    "# WITHOUT WARRANTIES OR CONDITIONS OF ANY KIND, either express or implied.\n",
    "# See the License for the specific language governing permissions and\n",
    "# limitations under the License."
   ]
  },
  {
   "cell_type": "code",
   "execution_count": 1,
   "metadata": {
    "execution": {
     "iopub.execute_input": "2022-12-14T12:26:52.363724Z",
     "iopub.status.busy": "2022-12-14T12:26:52.363466Z",
     "iopub.status.idle": "2022-12-14T12:26:54.305215Z",
     "shell.execute_reply": "2022-12-14T12:26:54.304527Z"
    },
    "id": "RsCV2oAS7gC_"
   },
   "outputs": [],
   "source": [
    "import os\n",
    "import numpy as np\n",
    "import math\n",
    "import json"
   ]
  },
  {
   "cell_type": "code",
   "execution_count": 2,
   "metadata": {
    "cellView": "form",
    "execution": {
     "iopub.execute_input": "2022-12-14T12:26:54.310354Z",
     "iopub.status.busy": "2022-12-14T12:26:54.308974Z",
     "iopub.status.idle": "2022-12-14T12:26:54.313977Z",
     "shell.execute_reply": "2022-12-14T12:26:54.313392Z"
    },
    "id": "jZXB4o6Tlu0i"
   },
   "outputs": [],
   "source": [
    "#@title\n",
    "\n",
    "from IPython.core.magic import register_line_magic\n",
    "from IPython.display import Javascript\n",
    "from IPython.display import display as ipy_display\n",
    "\n",
    "# Some of the model training logs can cover the full\n",
    "# screen if not compressed to a smaller viewport.\n",
    "# This magic allows setting a max height for a cell.\n",
    "@register_line_magic\n",
    "def set_cell_height(size):\n",
    "  ipy_display(\n",
    "      Javascript(\"google.colab.output.setIframeHeight(0, true, {maxHeight: \" +\n",
    "                 str(size) + \"})\"))"
   ]
  },
  {
   "cell_type": "code",
   "execution_count": 3,
   "metadata": {},
   "outputs": [
    {
     "name": "stdout",
     "output_type": "stream",
     "text": [
      "22996\n",
      "['carbocisteine', 'inhibit', 'respiratory', 'syncytial', 'virus', 'infection', 'human', 'tracheal', 'epithelial', 'cell', 'it', 'be', 'suggest', 'carbocisteine', 'may', 'inhibit', 'rs', 'virus', 'infection', 'reduce', 'expression', 'icam', 'rs', 'virus', 'receptor', 'it', 'may', 'also', 'modulate', 'airway', 'inflammation', 'rsirus', 'infection']\n",
      "8679\n",
      "['vitro', 'effect', 'human', 'cathelicidin', 'antimicrobial', 'peptide', 'll', 'dengue', 'virus', 'type', 'vitro', 'experiment', 'silico', 'analysis', 'suggest', 'll', 'inhibit', 'dengue', 'virus', 'type', 'denv', 'infection', 'replication', 'vero', 'e6', 'cell', 'bind', 'protein']\n"
     ]
    }
   ],
   "source": [
    "import json\n",
    "dataset_path = \"/home/ralf/IdeaProjects/LitBall-training/EXP-Title+TLDR/\"\n",
    "text_key = \"preprocessedText\"\n",
    "docs = []\n",
    "with open(dataset_path + \"ROTVRSV\") as file:\n",
    "    lines = file.readlines()\n",
    "    for line in lines:\n",
    "        d = json.loads(line)\n",
    "        docs.append(d[text_key])\n",
    "\n",
    "tdocs = []\n",
    "with open(dataset_path + \"DENV\") as file:\n",
    "    lines = file.readlines()\n",
    "    for line in lines:\n",
    "        d = json.loads(line)\n",
    "        tdocs.append(d[text_key])\n",
    "\n",
    "        # Tokenize the documents.\n",
    "\n",
    "        from nltk.tokenize import RegexpTokenizer\n",
    "\n",
    "# Split the documents into tokens.\n",
    "tokenizer = RegexpTokenizer(r'\\w+')\n",
    "for idx in range(len(docs)):\n",
    "    docs[idx] = docs[idx].lower()  # Convert to lowercase.\n",
    "    docs[idx] = tokenizer.tokenize(docs[idx])  # Split into words.\n",
    "for idx in range(len(tdocs)):\n",
    "    tdocs[idx] = tdocs[idx].lower()  # Convert to lowercase.\n",
    "    tdocs[idx] = tokenizer.tokenize(tdocs[idx])  # Split into words.\n",
    "\n",
    "# Remove numbers, but not words that contain numbers.\n",
    "docs = [[token for token in doc if not token.isnumeric()] for doc in docs]\n",
    "tdocs = [[token for token in doc if not token.isnumeric()] for doc in tdocs]\n",
    "\n",
    "# Remove words that are only one character.\n",
    "docs = [[token for token in doc if len(token) > 1] for doc in docs]\n",
    "tdocs = [[token for token in doc if len(token) > 1] for doc in tdocs]\n",
    "\n",
    "print(len(docs))\n",
    "print(docs[0][:500])\n",
    "print(len(tdocs))\n",
    "print(tdocs[0][:500])"
   ]
  },
  {
   "cell_type": "code",
   "execution_count": 4,
   "metadata": {},
   "outputs": [
    {
     "name": "stdout",
     "output_type": "stream",
     "text": [
      "Number of unique tokens: 8280\n",
      "Number of documents: 22996\n",
      "Number of test documents: 8679\n",
      "[(8, 1), (22, 1), (38, 3), (79, 1), (277, 1), (284, 1), (305, 1), (519, 1), (553, 2), (573, 1), (595, 1), (651, 1), (804, 1), (841, 1), (1068, 1), (1069, 1), (1675, 1), (1741, 1), (1969, 1), (2718, 3), (3144, 1), (4036, 1)]\n"
     ]
    }
   ],
   "source": [
    "# Compute bigrams.\n",
    "from gensim.models import Phrases\n",
    "\n",
    "# Add bigrams and trigrams to docs (only ones that appear 20 times or more).\n",
    "bigram = Phrases(docs, min_count=20)\n",
    "for idx in range(len(docs)):\n",
    "    for token in bigram[docs[idx]]:\n",
    "        if '_' in token:\n",
    "            # Token is a bigram, add to document.\n",
    "            docs[idx].append(token)\n",
    "\n",
    "# Remove rare and common tokens.\n",
    "from gensim.corpora import Dictionary\n",
    "\n",
    "# Create a dictionary representation of the documents.\n",
    "dictionary = Dictionary(docs)\n",
    "\n",
    "# Filter out words that occur less than 20 documents, or more than 50% of the documents.\n",
    "dictionary.filter_extremes(no_below=5, no_above=0.5)\n",
    "bads = [\"in\", \"it\", \"may\", \"also\", \"that\", \"which\", \"will\", \"not\", \"have\", \"use\"]\n",
    "dictionary.filter_tokens(bad_ids=[dictionary.token2id[tok] for tok in bads])\n",
    "\n",
    "# Bag-of-words representation of the documents.\n",
    "tr_corpus = [dictionary.doc2bow(doc) for doc in docs]\n",
    "print('Number of unique tokens: %d' % len(dictionary))\n",
    "print('Number of documents: %d' % len(tr_corpus))\n",
    "te_corpus = [dictionary.doc2bow(doc) for doc in tdocs]\n",
    "print('Number of test documents: %d' % len(te_corpus))\n",
    "print(te_corpus[500])"
   ]
  },
  {
   "cell_type": "code",
   "execution_count": 5,
   "metadata": {},
   "outputs": [],
   "source": [
    "farr1 = []\n",
    "for i in range(len(docs)):\n",
    "    arr = [0] * len(dictionary)\n",
    "    for j,_ in tr_corpus[i]:\n",
    "        arr[j] = 1\n",
    "    farr1.append(arr)\n",
    "farr2 = []\n",
    "for i in range(len(tdocs)):\n",
    "    arr = [0] * len(dictionary)\n",
    "    for j,_ in te_corpus[i]:\n",
    "        arr[j] = 1\n",
    "    farr2.append(arr)"
   ]
  },
  {
   "cell_type": "code",
   "execution_count": 6,
   "metadata": {},
   "outputs": [
    {
     "name": "stderr",
     "output_type": "stream",
     "text": [
      "2023-07-16 20:19:00.018298: I tensorflow/tsl/cuda/cudart_stub.cc:28] Could not find cuda drivers on your machine, GPU will not be used.\n",
      "2023-07-16 20:19:00.188245: I tensorflow/tsl/cuda/cudart_stub.cc:28] Could not find cuda drivers on your machine, GPU will not be used.\n",
      "2023-07-16 20:19:00.190008: I tensorflow/core/platform/cpu_feature_guard.cc:182] This TensorFlow binary is optimized to use available CPU instructions in performance-critical operations.\n",
      "To enable the following instructions: AVX2 FMA, in other operations, rebuild TensorFlow with the appropriate compiler flags.\n",
      "2023-07-16 20:19:03.049482: W tensorflow/compiler/tf2tensorrt/utils/py_utils.cc:38] TF-TRT Warning: Could not find TensorRT\n",
      "WARNING:root:TensorFlow Decision Forests 1.4.0 is compatible with the following TensorFlow Versions: ['2.12.0']. However, TensorFlow 2.12.1 was detected. This can cause issues with the TF API and symbols in the custom C++ ops. See the TF and TF-DF compatibility table at https://github.com/tensorflow/decision-forests/blob/main/documentation/known_issues.md#compatibility-table.\n"
     ]
    },
    {
     "name": "stdout",
     "output_type": "stream",
     "text": [
      "Made datasets\n"
     ]
    }
   ],
   "source": [
    "# Load the dataset\n",
    "import tensorflow_datasets as tfds\n",
    "import tensorflow as tf\n",
    "import pandas as pd\n",
    "import tensorflow_decision_forests as tfdf\n",
    "\n",
    "bsize = 300\n",
    "larr1 = []\n",
    "larr2 = []\n",
    "with open(dataset_path + \"ROTVRSV\") as file:\n",
    "    lines = file.readlines()\n",
    "    for line in lines:\n",
    "        d = json.loads(line)\n",
    "        larr1.append(int(d[\"label\"]))\n",
    "train_ds = tf.data.Dataset.from_tensor_slices((np.asarray(farr1), \n",
    "                                               np.asarray(larr1))).batch(bsize)\n",
    "\n",
    "with open(dataset_path + \"DENV\") as file:\n",
    "    test_lines = file.readlines()\n",
    "    for line in test_lines:\n",
    "        d = json.loads(line)\n",
    "        larr2.append(int(d[\"label\"]))\n",
    "test_ds = tf.data.Dataset.from_tensor_slices((np.asarray(farr2),\n",
    "                                              np.asarray(larr2))).batch(bsize)\n",
    "print(\"Made datasets\")"
   ]
  },
  {
   "cell_type": "code",
   "execution_count": 7,
   "metadata": {
    "execution": {
     "iopub.execute_input": "2022-12-14T12:27:00.923884Z",
     "iopub.status.busy": "2022-12-14T12:27:00.923343Z",
     "iopub.status.idle": "2022-12-14T12:27:53.858309Z",
     "shell.execute_reply": "2022-12-14T12:27:53.857637Z"
    },
    "id": "mpxTtYo39wYZ"
   },
   "outputs": [
    {
     "data": {
      "application/javascript": [
       "google.colab.output.setIframeHeight(0, true, {maxHeight: 300})"
      ],
      "text/plain": [
       "<IPython.core.display.Javascript object>"
      ]
     },
     "metadata": {},
     "output_type": "display_data"
    },
    {
     "name": "stdout",
     "output_type": "stream",
     "text": [
      "Use /tmp/tmp5x7nhfhb as temporary training directory\n",
      "Warning: Model constructor argument batch_size=None not supported. See https://www.tensorflow.org/decision_forests/migration for an explanation about the specificities of TF-DF.\n"
     ]
    },
    {
     "name": "stderr",
     "output_type": "stream",
     "text": [
      "WARNING:absl:Model constructor argument batch_size=None not supported. See https://www.tensorflow.org/decision_forests/migration for an explanation about the specificities of TF-DF.\n"
     ]
    },
    {
     "name": "stdout",
     "output_type": "stream",
     "text": [
      "Reading training dataset...\n"
     ]
    },
    {
     "name": "stderr",
     "output_type": "stream",
     "text": [
      "2023-07-16 20:19:33.209525: I tensorflow/core/common_runtime/executor.cc:1197] [/device:CPU:0] (DEBUG INFO) Executor start aborting (this does not indicate an error and you can ignore this message): INVALID_ARGUMENT: You must feed a value for placeholder tensor 'Placeholder/_1' with dtype int64 and shape [22996]\n",
      "\t [[{{node Placeholder/_1}}]]\n"
     ]
    },
    {
     "name": "stdout",
     "output_type": "stream",
     "text": [
      "Training dataset read in 0:01:05.833714. Found 22996 examples.\n",
      "Training model...\n"
     ]
    },
    {
     "name": "stderr",
     "output_type": "stream",
     "text": [
      "[INFO 23-07-16 20:28:36.0990 CEST kernel.cc:1243] Loading model from path /tmp/tmp5x7nhfhb/model/ with prefix ad360df4d63b4861\n"
     ]
    },
    {
     "name": "stdout",
     "output_type": "stream",
     "text": [
      "Model trained in 0:07:58.401228\n",
      "Compiling model...\n"
     ]
    },
    {
     "name": "stderr",
     "output_type": "stream",
     "text": [
      "[INFO 23-07-16 20:28:37.0253 CEST decision_forest.cc:660] Model loaded with 600 root(s), 278124 node(s), and 3575 input feature(s).\n",
      "[INFO 23-07-16 20:28:37.0254 CEST abstract_model.cc:1311] Engine \"RandomForestOptPred\" built\n",
      "[INFO 23-07-16 20:28:37.0384 CEST kernel.cc:1075] Use fast generic engine\n",
      "2023-07-16 20:28:37.448853: I tensorflow/core/common_runtime/executor.cc:1197] [/device:CPU:0] (DEBUG INFO) Executor start aborting (this does not indicate an error and you can ignore this message): INVALID_ARGUMENT: You must feed a value for placeholder tensor 'Placeholder/_1' with dtype int64 and shape [22996]\n",
      "\t [[{{node Placeholder/_1}}]]\n"
     ]
    },
    {
     "name": "stdout",
     "output_type": "stream",
     "text": [
      "WARNING:tensorflow:AutoGraph could not transform <function simple_ml_inference_op_with_handle at 0x7f93de9dce00> and will run it as-is.\n",
      "Please report this to the TensorFlow team. When filing the bug, set the verbosity to 10 (on Linux, `export AUTOGRAPH_VERBOSITY=10`) and attach the full output.\n",
      "Cause: could not get source code\n",
      "To silence this warning, decorate the function with @tf.autograph.experimental.do_not_convert\n"
     ]
    },
    {
     "name": "stderr",
     "output_type": "stream",
     "text": [
      "WARNING:tensorflow:AutoGraph could not transform <function simple_ml_inference_op_with_handle at 0x7f93de9dce00> and will run it as-is.\n",
      "Please report this to the TensorFlow team. When filing the bug, set the verbosity to 10 (on Linux, `export AUTOGRAPH_VERBOSITY=10`) and attach the full output.\n",
      "Cause: could not get source code\n",
      "To silence this warning, decorate the function with @tf.autograph.experimental.do_not_convert\n"
     ]
    },
    {
     "name": "stdout",
     "output_type": "stream",
     "text": [
      "WARNING: AutoGraph could not transform <function simple_ml_inference_op_with_handle at 0x7f93de9dce00> and will run it as-is.\n",
      "Please report this to the TensorFlow team. When filing the bug, set the verbosity to 10 (on Linux, `export AUTOGRAPH_VERBOSITY=10`) and attach the full output.\n",
      "Cause: could not get source code\n",
      "To silence this warning, decorate the function with @tf.autograph.experimental.do_not_convert\n",
      "Model compiled.\n"
     ]
    },
    {
     "data": {
      "text/plain": [
       "<keras.callbacks.History at 0x7f9430038650>"
      ]
     },
     "execution_count": 7,
     "metadata": {},
     "output_type": "execute_result"
    }
   ],
   "source": [
    "%set_cell_height 300\n",
    "\n",
    "# Specify the model.\n",
    "model_1 = tfdf.keras.RandomForestModel(num_trees=600, verbose=1, num_threads=3)\n",
    "\n",
    "# Train the model.\n",
    "model_1.fit(x=train_ds, batch_size=None)"
   ]
  },
  {
   "cell_type": "code",
   "execution_count": 8,
   "metadata": {
    "execution": {
     "iopub.execute_input": "2022-12-14T12:27:53.861879Z",
     "iopub.status.busy": "2022-12-14T12:27:53.861292Z",
     "iopub.status.idle": "2022-12-14T12:27:54.395342Z",
     "shell.execute_reply": "2022-12-14T12:27:54.394656Z"
    },
    "id": "cpf-wHl094S1"
   },
   "outputs": [
    {
     "name": "stderr",
     "output_type": "stream",
     "text": [
      "2023-07-16 20:31:33.724704: I tensorflow/core/common_runtime/executor.cc:1197] [/device:CPU:0] (DEBUG INFO) Executor start aborting (this does not indicate an error and you can ignore this message): INVALID_ARGUMENT: You must feed a value for placeholder tensor 'Placeholder/_1' with dtype int64 and shape [8679]\n",
      "\t [[{{node Placeholder/_1}}]]\n"
     ]
    },
    {
     "name": "stdout",
     "output_type": "stream",
     "text": [
      "29/29 [==============================] - 126s 38ms/step - loss: 0.0000e+00 - accuracy: 0.8280\n",
      "BinaryCrossentropyloss: 0.0\n",
      "Accuracy: 0.8279755711555481\n"
     ]
    }
   ],
   "source": [
    "model_1.compile(metrics=[\"accuracy\"])\n",
    "evaluation = model_1.evaluate(test_ds, batch_size=None)\n",
    "\n",
    "print(f\"BinaryCrossentropyloss: {evaluation[0]}\")\n",
    "print(f\"Accuracy: {evaluation[1]}\")"
   ]
  },
  {
   "cell_type": "code",
   "execution_count": 9,
   "metadata": {
    "execution": {
     "iopub.execute_input": "2022-12-14T12:27:54.399169Z",
     "iopub.status.busy": "2022-12-14T12:27:54.398503Z",
     "iopub.status.idle": "2022-12-14T12:27:54.837481Z",
     "shell.execute_reply": "2022-12-14T12:27:54.836829Z"
    },
    "id": "OnTTtBNmjpo7"
   },
   "outputs": [
    {
     "data": {
      "image/png": "[encoded data removed]",
      "text/plain": [
       "<Figure size 640x480 with 1 Axes>"
      ]
     },
     "metadata": {},
     "output_type": "display_data"
    }
   ],
   "source": [
    "import matplotlib.pyplot as plt\n",
    "\n",
    "logs = model_1.make_inspector().training_logs()\n",
    "plt.plot([log.num_trees for log in logs], [log.evaluation.accuracy for log in logs])\n",
    "plt.xlabel(\"Number of trees\")\n",
    "plt.ylabel(\"Out-of-bag accuracy\")\n",
    "pass"
   ]
  },
  {
   "cell_type": "code",
   "execution_count": 10,
   "metadata": {},
   "outputs": [
    {
     "name": "stdout",
     "output_type": "stream",
     "text": [
      "29/29 [==============================] - 132s 39ms/step\n",
      "cut: 0.25, acc: 0.8279755732227215, prec: 0.6230314960629921, rec: 0.8466339723584485, f1: 0.7178227178227178\n",
      "cut: 0.3, acc: 0.8565502938126512, prec: 0.7004016064257028, rec: 0.7775300936246099, f1: 0.7369533065708853\n",
      "cut: 0.35, acc: 0.8674962553289549, prec: 0.7685503685503685, rec: 0.6972804279982167, f1: 0.7311827956989246\n",
      "cut: 0.39999999999999997, acc: 0.8630026500748934, prec: 0.8197815533980582, rec: 0.6023183236736513, f1: 0.6944230274993574\n",
      "cut: 0.44999999999999996, acc: 0.8483696278373084, prec: 0.8699122106943336, rec: 0.4859563085153812, f1: 0.6235697940503432\n",
      "cut: 0.49999999999999994, acc: 0.8279755732227215, prec: 0.907608695652174, rec: 0.3722692822113241, f1: 0.527979766044894\n",
      "cut: 0.5499999999999999, acc: 0.8051618850097938, prec: 0.932601880877743, rec: 0.2652697280427998, f1: 0.41305102395001736\n",
      "cut: 0.5999999999999999, acc: 0.7844221684525867, prec: 0.9603960396039604, rec: 0.17298261257244762, f1: 0.2931620702682282\n",
      "cut: 0.6499999999999999, acc: 0.7651803203134001, prec: 0.9812206572769953, rec: 0.09317877842175658, f1: 0.1701954397394137\n",
      "cut: 0.7, acc: 0.7526212697315359, prec: 0.98, rec: 0.043691484618814086, f1: 0.08365343576611182\n",
      "cut: 0.7499999999999999, acc: 0.7450167069938933, prec: 1.0, rec: 0.013374944271065538, f1: 0.026396832380114386\n"
     ]
    }
   ],
   "source": [
    "p = model_1.predict(test_ds)\n",
    "\n",
    "#Fish for best cut\n",
    "for cut in np.arange(0.25, .8, .05):\n",
    "    tp = 0\n",
    "    tn = 0\n",
    "    fp = 0\n",
    "    fn = 0\n",
    "    N = len(p)\n",
    "    for i in range(N):\n",
    "        tru = larr2[i] == 1\n",
    "        prd = p[i] > cut\n",
    "        if tru and prd == tru:\n",
    "            tp = tp + 1\n",
    "        if tru and prd != tru:\n",
    "            fn = fn + 1\n",
    "        if tru == False and prd == tru:\n",
    "            tn = tn + 1\n",
    "        if tru == False and prd != tru:\n",
    "            fp = fp + 1\n",
    "    precision = tp/(tp+fp)\n",
    "    recall = tp/(tp+fn)\n",
    "    f1_score = 2 * (precision * recall) / (precision + recall)\n",
    "    print(\"cut: {}, acc: {}, prec: {}, rec: {}, f1: {}\".format(cut, (tp+tn)/N, precision, recall, f1_score))"
   ]
  },
  {
   "cell_type": "code",
   "execution_count": 15,
   "metadata": {},
   "outputs": [
    {
     "name": "stdout",
     "output_type": "stream",
     "text": [
      "c: 0.0, n = 6525, tru: 378\n",
      "c: 0.05, n = 6396, tru: 378\n",
      "c: 0.1, n = 5885, tru: 377\n",
      "c: 0.15000000000000002, n = 4983, tru: 376\n",
      "c: 0.2, n = 4009, tru: 374\n",
      "c: 0.25, n = 3139, tru: 368\n",
      "c: 0.30000000000000004, n = 2379, tru: 351\n",
      "c: 0.35000000000000003, n = 1765, tru: 323\n",
      "c: 0.4, n = 1261, tru: 281\n",
      "c: 0.45, n = 785, tru: 209\n"
     ]
    }
   ],
   "source": [
    "cut = 55\n",
    "N = len(p)\n",
    "with open(\"/home/ralf//IdeaProjects/LitBall-training/pred.json\", \"w\") as file:\n",
    "    for c in np.arange(0., .5, .05):\n",
    "        s = 0\n",
    "        t = 0\n",
    "        for i in range(N):\n",
    "            tru = test_cases[i][\"label\"] == '1'\n",
    "            val = int((p[i]+0.005) * 100)\n",
    "            pred = False\n",
    "            if val > cut:\n",
    "                pred = True\n",
    "            elif val > 100*c:\n",
    "                s = s+1\n",
    "                if tru:\n",
    "                    t = t+1\n",
    "        print(\"c: {}, n = {}, tru: {}\".format(c, s, t))"
   ]
  },
  {
   "cell_type": "code",
   "execution_count": null,
   "metadata": {},
   "outputs": [],
   "source": []
  }
 ],
 "metadata": {
  "colab": {
   "collapsed_sections": [],
   "name": "intermediate_colab.ipynb",
   "provenance": [],
   "toc_visible": true
  },
  "kernelspec": {
   "display_name": "Python 3 (ipykernel)",
   "language": "python",
   "name": "python3"
  },
  "language_info": {
   "codemirror_mode": {
    "name": "ipython",
    "version": 3
   },
   "file_extension": ".py",
   "mimetype": "text/x-python",
   "name": "python",
   "nbconvert_exporter": "python",
   "pygments_lexer": "ipython3",
   "version": "3.11.4"
  }
 },
 "nbformat": 4,
 "nbformat_minor": 1
}
