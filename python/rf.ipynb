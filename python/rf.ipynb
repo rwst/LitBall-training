{
 "cells": [
  {
   "cell_type": "markdown",
   "metadata": {
    "id": "Tce3stUlHN0L"
   },
   "source": [
    "##### Copyright 2020 The TensorFlow Authors."
   ]
  },
  {
   "cell_type": "code",
   "execution_count": 1,
   "metadata": {
    "cellView": "form",
    "execution": {
     "iopub.execute_input": "2022-12-14T12:26:48.456774Z",
     "iopub.status.busy": "2022-12-14T12:26:48.456275Z",
     "iopub.status.idle": "2022-12-14T12:26:48.459954Z",
     "shell.execute_reply": "2022-12-14T12:26:48.459388Z"
    },
    "id": "tuOe1ymfHZPu"
   },
   "outputs": [],
   "source": [
    "#@title Licensed under the Apache License, Version 2.0 (the \"License\");\n",
    "# you may not use this file except in compliance with the License.\n",
    "# You may obtain a copy of the License at\n",
    "#\n",
    "# https://www.apache.org/licenses/LICENSE-2.0\n",
    "#\n",
    "# Unless required by applicable law or agreed to in writing, software\n",
    "# distributed under the License is distributed on an \"AS IS\" BASIS,\n",
    "# WITHOUT WARRANTIES OR CONDITIONS OF ANY KIND, either express or implied.\n",
    "# See the License for the specific language governing permissions and\n",
    "# limitations under the License."
   ]
  },
  {
   "cell_type": "markdown",
   "metadata": {
    "id": "8yo62ffS5TF5"
   },
   "source": [
    "# Using text and neural network features\n",
    "\n",
    "<table class=\"tfo-notebook-buttons\" align=\"left\">\n",
    "  <td>\n",
    "    <a target=\"_blank\" href=\"https://www.tensorflow.org/decision_forests/tutorials/intermediate_colab\"><img src=\"https://www.tensorflow.org/images/tf_logo_32px.png\" />View on TensorFlow.org</a>\n",
    "  </td>\n",
    "  <td>\n",
    "    <a target=\"_blank\" href=\"https://colab.research.google.com/github/tensorflow/decision-forests/blob/main/documentation/tutorials/intermediate_colab.ipynb\"><img src=\"https://www.tensorflow.org/images/colab_logo_32px.png\" />Run in Google Colab</a>\n",
    "  </td>\n",
    "  <td>\n",
    "    <a target=\"_blank\" href=\"https://github.com/tensorflow/decision-forests/blob/main/documentation/tutorials/intermediate_colab.ipynb\"><img src=\"https://www.tensorflow.org/images/GitHub-Mark-32px.png\" />View on GitHub</a>\n",
    "  </td>\n",
    "  <td>\n",
    "    <a href=\"https://storage.googleapis.com/tensorflow_docs/decision-forests/documentation/tutorials/intermediate_colab.ipynb\"><img src=\"https://www.tensorflow.org/images/download_logo_32px.png\" />Download notebook</a>\n",
    "  </td>\n",
    "  <td>\n",
    "    <a href=\"https://tfhub.dev/google/universal-sentence-encoder/4\"><img src=\"https://www.tensorflow.org/images/hub_logo_32px.png\" />See TF Hub model</a>\n",
    "  </td>\n",
    "</table>\n"
   ]
  },
  {
   "cell_type": "markdown",
   "metadata": {
    "id": "zrCwCCxhiAL7"
   },
   "source": [
    "Welcome to the **Intermediate Colab** for **TensorFlow Decision Forests** (**TF-DF**).\n",
    "In this colab, you will learn about some more advanced capabilities of **TF-DF**, including how to deal with natural language features.\n",
    "\n",
    "This colab assumes you are familiar with the concepts presented the [Beginner colab](beginner_colab.ipynb), notably about the installation about TF-DF.\n",
    "\n",
    "In this colab, you will:\n",
    "\n",
    "1. Train a Random Forest that consumes text features natively as categorical sets.\n",
    "\n",
    "1. Train a Random Forest that consumes text features using a [TensorFlow Hub](https://www.tensorflow.org/hub) module. In this setting (transfer learning), the module is already pre-trained on a large text corpus.\n",
    "\n",
    "1. Train a Gradient Boosted Decision Trees (GBDT) and a Neural Network together. The GBDT will consume the output of the Neural Network."
   ]
  },
  {
   "cell_type": "markdown",
   "metadata": {
    "id": "Rzskapxq7gdo"
   },
   "source": [
    "## Setup"
   ]
  },
  {
   "cell_type": "markdown",
   "metadata": {
    "id": "i7PlfbnxYcPf"
   },
   "source": [
    "Import the necessary libraries."
   ]
  },
  {
   "cell_type": "code",
   "execution_count": 12,
   "metadata": {
    "execution": {
     "iopub.execute_input": "2022-12-14T12:26:52.363724Z",
     "iopub.status.busy": "2022-12-14T12:26:52.363466Z",
     "iopub.status.idle": "2022-12-14T12:26:54.305215Z",
     "shell.execute_reply": "2022-12-14T12:26:54.304527Z"
    },
    "id": "RsCV2oAS7gC_"
   },
   "outputs": [],
   "source": [
    "import tensorflow_decision_forests as tfdf\n",
    "\n",
    "import os\n",
    "import numpy as np\n",
    "import pandas as pd\n",
    "import tensorflow as tf\n",
    "import math\n",
    "import json"
   ]
  },
  {
   "cell_type": "markdown",
   "metadata": {
    "id": "w2fsI0y5x5i5"
   },
   "source": [
    "The hidden code cell limits the output height in colab."
   ]
  },
  {
   "cell_type": "code",
   "execution_count": 13,
   "metadata": {
    "cellView": "form",
    "execution": {
     "iopub.execute_input": "2022-12-14T12:26:54.310354Z",
     "iopub.status.busy": "2022-12-14T12:26:54.308974Z",
     "iopub.status.idle": "2022-12-14T12:26:54.313977Z",
     "shell.execute_reply": "2022-12-14T12:26:54.313392Z"
    },
    "id": "jZXB4o6Tlu0i"
   },
   "outputs": [],
   "source": [
    "#@title\n",
    "\n",
    "from IPython.core.magic import register_line_magic\n",
    "from IPython.display import Javascript\n",
    "from IPython.display import display as ipy_display\n",
    "\n",
    "# Some of the model training logs can cover the full\n",
    "# screen if not compressed to a smaller viewport.\n",
    "# This magic allows setting a max height for a cell.\n",
    "@register_line_magic\n",
    "def set_cell_height(size):\n",
    "  ipy_display(\n",
    "      Javascript(\"google.colab.output.setIframeHeight(0, true, {maxHeight: \" +\n",
    "                 str(size) + \"})\"))"
   ]
  },
  {
   "cell_type": "code",
   "execution_count": 14,
   "metadata": {},
   "outputs": [
    {
     "data": {
      "text/plain": [
       "0"
      ]
     },
     "execution_count": 14,
     "metadata": {},
     "output_type": "execute_result"
    }
   ],
   "source": [
    "from google.cloud import storage\n",
    "import io\n",
    "os.environ['GOOGLE_APPLICATION_CREDENTIALS'] = \"/home/ralf/.config/gcloud/application_default_credentials.json\"\n",
    "os.environ['GOOGLE_CLOUD_PROJECT'] = \"359515640875\"\n",
    "client = storage.Client()\n",
    "bucket = client.get_bucket('06fff4a5ff3c1cb7a4089a63899047ff8dcd')\n",
    "# Then do other things...\n",
    "blob1 = bucket.get_blob('ROTVRSV')\n",
    "blob2 = bucket.get_blob('DENV')\n",
    "in_memory_file1 = io.BytesIO()\n",
    "blob1.download_to_file(in_memory_file1)\n",
    "in_memory_file1.seek(0)\n",
    "in_memory_file2 = io.BytesIO()\n",
    "blob2.download_to_file(in_memory_file2)\n",
    "in_memory_file2.seek(0)"
   ]
  },
  {
   "cell_type": "code",
   "execution_count": 15,
   "metadata": {
    "execution": {
     "iopub.execute_input": "2022-12-14T12:26:55.925820Z",
     "iopub.status.busy": "2022-12-14T12:26:55.925271Z",
     "iopub.status.idle": "2022-12-14T12:27:00.827053Z",
     "shell.execute_reply": "2022-12-14T12:27:00.826354Z"
    },
    "id": "uVN-j0E4Q1T3"
   },
   "outputs": [],
   "source": [
    "# Load the dataset\n",
    "import tensorflow_datasets as tfds\n",
    "import tensorflow as tf\n",
    "import pandas as pd\n",
    "\n",
    "# Assuming your dataset is stored in a CSV file\n",
    "dataset_path = \"/home/ralf/IdeaProjects/LitBall-training/EXP-Title+TLDR/\"\n",
    "\n",
    "trds = pd.read_json(in_memory_file1,\n",
    "                 dtype={\"preprocessedText\": str, \"label\": str},\n",
    "                lines=True\n",
    "                 )\n",
    "teds = pd.read_json(in_memory_file2,\n",
    "                 dtype={\"preprocessedText\": str, \"label\": str},\n",
    "                lines=True\n",
    "                 )\n",
    "tr_ds = tfdf.keras.pd_dataframe_to_tf_dataset(trds, label=\"label\")\n",
    "te_ds = tfdf.keras.pd_dataframe_to_tf_dataset(teds, label=\"label\")\n",
    "\n",
    "with open(dataset_path + \"DENV\") as file:\n",
    "    test_lines = file.readlines()"
   ]
  },
  {
   "cell_type": "code",
   "execution_count": 16,
   "metadata": {
    "execution": {
     "iopub.execute_input": "2022-12-14T12:27:00.831031Z",
     "iopub.status.busy": "2022-12-14T12:27:00.830774Z",
     "iopub.status.idle": "2022-12-14T12:27:00.919993Z",
     "shell.execute_reply": "2022-12-14T12:27:00.919392Z"
    },
    "id": "yqYDKTKdSPYw"
   },
   "outputs": [],
   "source": [
    "def prepare_dataset1(example, label):\n",
    "    return {\"sentence\" : tf.strings.split(example[\"preprocessedText\"])}, label\n",
    "\n",
    "def prepare_dataset2(s):\n",
    "    m = json.loads(s)\n",
    "    sp = tf.strings.split(m[\"preprocessedText\"])\n",
    "#    print(sp)\n",
    "#    m[\"prep\"] = tf.RaggedTensor.from_tensor(sp, ragged_rank=1)\n",
    "#    m[\"prep\"] = tf.constant(sp)\n",
    "    return m\n",
    "\n",
    "train_ds = tr_ds.map(prepare_dataset1)\n",
    "test_ds = te_ds.map(prepare_dataset1)\n",
    "#for features, label in test_ds:\n",
    "#    print(\"features:\", features)\n",
    "#    print(\"label:\", label)\n",
    "#    break\n",
    "    \n",
    "test_cases = list(map(prepare_dataset2, test_lines))"
   ]
  },
  {
   "cell_type": "code",
   "execution_count": 17,
   "metadata": {
    "execution": {
     "iopub.execute_input": "2022-12-14T12:27:00.923884Z",
     "iopub.status.busy": "2022-12-14T12:27:00.923343Z",
     "iopub.status.idle": "2022-12-14T12:27:53.858309Z",
     "shell.execute_reply": "2022-12-14T12:27:53.857637Z"
    },
    "id": "mpxTtYo39wYZ"
   },
   "outputs": [
    {
     "data": {
      "application/javascript": [
       "google.colab.output.setIframeHeight(0, true, {maxHeight: 300})"
      ],
      "text/plain": [
       "<IPython.core.display.Javascript object>"
      ]
     },
     "metadata": {},
     "output_type": "display_data"
    },
    {
     "name": "stdout",
     "output_type": "stream",
     "text": [
      "Use /tmp/tmpbpn_cc8s as temporary training directory\n",
      "Warning: Model constructor argument batch_size=None not supported. See https://www.tensorflow.org/decision_forests/migration for an explanation about the specificities of TF-DF.\n"
     ]
    },
    {
     "name": "stderr",
     "output_type": "stream",
     "text": [
      "WARNING:absl:Model constructor argument batch_size=None not supported. See https://www.tensorflow.org/decision_forests/migration for an explanation about the specificities of TF-DF.\n"
     ]
    },
    {
     "name": "stdout",
     "output_type": "stream",
     "text": [
      "Reading training dataset...\n",
      "Training tensor examples:\n",
      "Features: {'sentence': tf.RaggedTensor(values=Tensor(\"data:0\", shape=(None,), dtype=string), row_splits=Tensor(\"data_1:0\", shape=(None,), dtype=int64))}\n",
      "Label: Tensor(\"data_2:0\", shape=(None,), dtype=int64)\n",
      "Weights: None\n",
      "Normalized tensor features:\n",
      " {'sentence': SemanticTensor(semantic=<Semantic.CATEGORICAL_SET: 4>, tensor=tf.RaggedTensor(values=Tensor(\"data:0\", shape=(None,), dtype=string), row_splits=Tensor(\"data_1:0\", shape=(None,), dtype=int64)))}\n"
     ]
    },
    {
     "name": "stderr",
     "output_type": "stream",
     "text": [
      "2023-07-16 18:44:30.154343: I tensorflow/core/common_runtime/executor.cc:1197] [/device:CPU:0] (DEBUG INFO) Executor start aborting (this does not indicate an error and you can ignore this message): INVALID_ARGUMENT: You must feed a value for placeholder tensor 'Placeholder/_3' with dtype int64 and shape [22996]\n",
      "\t [[{{node Placeholder/_3}}]]\n"
     ]
    },
    {
     "name": "stdout",
     "output_type": "stream",
     "text": [
      "Training dataset read in 0:00:00.270971. Found 22996 examples.\n",
      "Training model...\n"
     ]
    },
    {
     "name": "stderr",
     "output_type": "stream",
     "text": [
      "[INFO 23-07-16 18:44:30.4231 CEST kernel.cc:773] Start Yggdrasil model training\n",
      "[INFO 23-07-16 18:44:30.4232 CEST kernel.cc:774] Collect training examples\n",
      "[INFO 23-07-16 18:44:30.4232 CEST kernel.cc:787] Dataspec guide:\n",
      "column_guides {\n",
      "  column_name_pattern: \"^__LABEL$\"\n",
      "  type: CATEGORICAL\n",
      "  categorial {\n",
      "    min_vocab_frequency: 0\n",
      "    max_vocab_count: -1\n",
      "  }\n",
      "}\n",
      "default_column_guide {\n",
      "  categorial {\n",
      "    max_vocab_count: 2000\n",
      "  }\n",
      "  discretized_numerical {\n",
      "    maximum_num_bins: 255\n",
      "  }\n",
      "}\n",
      "ignore_columns_without_guides: false\n",
      "detect_numerical_as_discretized_numerical: false\n",
      "\n",
      "[INFO 23-07-16 18:44:30.4233 CEST kernel.cc:393] Number of batches: 23\n",
      "[INFO 23-07-16 18:44:30.4233 CEST kernel.cc:394] Number of examples: 22996\n",
      "[INFO 23-07-16 18:44:30.4860 CEST data_spec_inference.cc:305] 35489 item(s) have been pruned (i.e. they are considered out of dictionary) for the column sentence (2000 item(s) left) because min_value_count=5 and max_number_of_unique_values=2000\n",
      "[INFO 23-07-16 18:44:30.5463 CEST kernel.cc:794] Training dataset:\n",
      "Number of records: 22996\n",
      "Number of columns: 2\n",
      "\n",
      "Number of columns by type:\n",
      "\tCATEGORICAL_SET: 1 (50%)\n",
      "\tCATEGORICAL: 1 (50%)\n",
      "\n",
      "Columns:\n",
      "\n",
      "CATEGORICAL_SET: 1 (50%)\n",
      "\t1: \"sentence\" CATEGORICAL_SET has-dict vocab-size:2001 num-oods:28191 (122.591%) most-frequent:\",\" 32511 (141.377%)\n",
      "\n",
      "CATEGORICAL: 1 (50%)\n",
      "\t0: \"__LABEL\" CATEGORICAL integerized vocab-size:3 no-ood-item\n",
      "\n",
      "Terminology:\n",
      "\tnas: Number of non-available (i.e. missing) values.\n",
      "\tood: Out of dictionary.\n",
      "\tmanually-defined: Attribute which type is manually defined by the user i.e. the type was not automatically inferred.\n",
      "\ttokenized: The attribute value is obtained through tokenization.\n",
      "\thas-dict: The attribute is attached to a string dictionary e.g. a categorical attribute stored as a string.\n",
      "\tvocab-size: Number of unique values.\n",
      "\n",
      "[INFO 23-07-16 18:44:30.5463 CEST kernel.cc:810] Configure learner\n",
      "[INFO 23-07-16 18:44:30.5466 CEST kernel.cc:824] Training config:\n",
      "learner: \"RANDOM_FOREST\"\n",
      "features: \"^sentence$\"\n",
      "label: \"^__LABEL$\"\n",
      "task: CLASSIFICATION\n",
      "random_seed: 123456\n",
      "metadata {\n",
      "  framework: \"TF Keras\"\n",
      "}\n",
      "pure_serving_model: false\n",
      "[yggdrasil_decision_forests.model.random_forest.proto.random_forest_config] {\n",
      "  num_trees: 300\n",
      "  decision_tree {\n",
      "    max_depth: 16\n",
      "    min_examples: 5\n",
      "    in_split_min_examples_check: true\n",
      "    keep_non_leaf_label_distribution: true\n",
      "    num_candidate_attributes: 0\n",
      "    missing_value_policy: GLOBAL_IMPUTATION\n",
      "    allow_na_conditions: false\n",
      "    categorical_set_greedy_forward {\n",
      "      sampling: 0.1\n",
      "      max_num_items: -1\n",
      "      min_item_frequency: 1\n",
      "    }\n",
      "    growing_strategy_local {\n",
      "    }\n",
      "    categorical {\n",
      "      cart {\n",
      "      }\n",
      "    }\n",
      "    axis_aligned_split {\n",
      "    }\n",
      "    internal {\n",
      "      sorting_strategy: PRESORTED\n",
      "    }\n",
      "    uplift {\n",
      "      min_examples_in_treatment: 5\n",
      "      split_score: KULLBACK_LEIBLER\n",
      "    }\n",
      "  }\n",
      "  winner_take_all_inference: true\n",
      "  compute_oob_performances: true\n",
      "  compute_oob_variable_importances: false\n",
      "  num_oob_variable_importances_permutations: 1\n",
      "  bootstrap_training_dataset: true\n",
      "  bootstrap_size_ratio: 1\n",
      "  adapt_bootstrap_size_ratio_for_maximum_training_duration: false\n",
      "  sampling_with_replacement: true\n",
      "}\n",
      "\n",
      "[INFO 23-07-16 18:44:30.5467 CEST kernel.cc:827] Deployment config:\n",
      "cache_path: \"/tmp/tmpbpn_cc8s/working_cache\"\n",
      "num_threads: 3\n",
      "try_resume_training: true\n",
      "\n",
      "[INFO 23-07-16 18:44:30.5470 CEST kernel.cc:889] Train model\n",
      "[INFO 23-07-16 18:44:30.5476 CEST random_forest.cc:416] Training random forest on 22996 example(s) and 1 feature(s).\n",
      "[INFO 23-07-16 18:44:36.3328 CEST random_forest.cc:802] Training of tree  1/300 (tree index:0) done accuracy:0.73399 logloss:9.58799\n",
      "[INFO 23-07-16 18:44:48.4962 CEST random_forest.cc:802] Training of tree  7/300 (tree index:7) done accuracy:0.760067 logloss:3.95825\n",
      "[INFO 23-07-16 18:45:00.1087 CEST random_forest.cc:802] Training of tree  13/300 (tree index:12) done accuracy:0.783731 logloss:1.6728\n",
      "[INFO 23-07-16 18:45:11.9840 CEST random_forest.cc:802] Training of tree  19/300 (tree index:18) done accuracy:0.800017 logloss:0.897325\n",
      "[INFO 23-07-16 18:45:23.9946 CEST random_forest.cc:802] Training of tree  25/300 (tree index:24) done accuracy:0.808575 logloss:0.645162\n",
      "[INFO 23-07-16 18:45:35.8284 CEST random_forest.cc:802] Training of tree  31/300 (tree index:31) done accuracy:0.815577 logloss:0.547203\n",
      "[INFO 23-07-16 18:45:47.6716 CEST random_forest.cc:802] Training of tree  37/300 (tree index:36) done accuracy:0.822143 logloss:0.495789\n",
      "[INFO 23-07-16 18:45:59.5863 CEST random_forest.cc:802] Training of tree  43/300 (tree index:44) done accuracy:0.824404 logloss:0.477231\n",
      "[INFO 23-07-16 18:46:11.6362 CEST random_forest.cc:802] Training of tree  49/300 (tree index:49) done accuracy:0.827535 logloss:0.457773\n",
      "[INFO 23-07-16 18:46:23.4391 CEST random_forest.cc:802] Training of tree  55/300 (tree index:54) done accuracy:0.829405 logloss:0.445338\n",
      "[INFO 23-07-16 18:46:35.2936 CEST random_forest.cc:802] Training of tree  61/300 (tree index:61) done accuracy:0.831666 logloss:0.427871\n",
      "[INFO 23-07-16 18:46:47.5469 CEST random_forest.cc:802] Training of tree  67/300 (tree index:66) done accuracy:0.83071 logloss:0.420912\n",
      "[INFO 23-07-16 18:46:59.7672 CEST random_forest.cc:802] Training of tree  73/300 (tree index:72) done accuracy:0.833145 logloss:0.416957\n",
      "[INFO 23-07-16 18:47:11.9692 CEST random_forest.cc:802] Training of tree  79/300 (tree index:79) done accuracy:0.836102 logloss:0.416024\n",
      "[INFO 23-07-16 18:47:23.8235 CEST random_forest.cc:802] Training of tree  85/300 (tree index:85) done accuracy:0.836667 logloss:0.412672\n",
      "[INFO 23-07-16 18:47:35.6209 CEST random_forest.cc:802] Training of tree  91/300 (tree index:90) done accuracy:0.836667 logloss:0.406447\n",
      "[INFO 23-07-16 18:47:47.7311 CEST random_forest.cc:802] Training of tree  97/300 (tree index:96) done accuracy:0.836928 logloss:0.40031\n",
      "[INFO 23-07-16 18:47:59.7731 CEST random_forest.cc:802] Training of tree  103/300 (tree index:102) done accuracy:0.83658 logloss:0.398281\n",
      "[INFO 23-07-16 18:48:11.5680 CEST random_forest.cc:802] Training of tree  109/300 (tree index:108) done accuracy:0.837711 logloss:0.398128\n",
      "[INFO 23-07-16 18:48:23.4317 CEST random_forest.cc:802] Training of tree  115/300 (tree index:114) done accuracy:0.837493 logloss:0.398063\n",
      "[INFO 23-07-16 18:48:35.2354 CEST random_forest.cc:802] Training of tree  121/300 (tree index:121) done accuracy:0.838798 logloss:0.395205\n",
      "[INFO 23-07-16 18:48:47.5930 CEST random_forest.cc:802] Training of tree  127/300 (tree index:126) done accuracy:0.839363 logloss:0.394752\n",
      "[INFO 23-07-16 18:48:59.7185 CEST random_forest.cc:802] Training of tree  133/300 (tree index:133) done accuracy:0.840798 logloss:0.393972\n",
      "[INFO 23-07-16 18:49:10.8384 CEST random_forest.cc:802] Training of tree  139/300 (tree index:138) done accuracy:0.839929 logloss:0.389384\n",
      "[INFO 23-07-16 18:49:23.2486 CEST random_forest.cc:802] Training of tree  145/300 (tree index:144) done accuracy:0.840146 logloss:0.38908\n",
      "[INFO 23-07-16 18:49:35.3129 CEST random_forest.cc:802] Training of tree  151/300 (tree index:150) done accuracy:0.841364 logloss:0.388879\n",
      "[INFO 23-07-16 18:49:47.2761 CEST random_forest.cc:802] Training of tree  157/300 (tree index:156) done accuracy:0.841886 logloss:0.38863\n",
      "[INFO 23-07-16 18:49:59.4110 CEST random_forest.cc:802] Training of tree  163/300 (tree index:162) done accuracy:0.840668 logloss:0.388442\n",
      "[INFO 23-07-16 18:50:11.3487 CEST random_forest.cc:802] Training of tree  169/300 (tree index:168) done accuracy:0.841538 logloss:0.388297\n",
      "[INFO 23-07-16 18:50:23.7102 CEST random_forest.cc:802] Training of tree  175/300 (tree index:174) done accuracy:0.841929 logloss:0.388075\n",
      "[INFO 23-07-16 18:50:35.9551 CEST random_forest.cc:802] Training of tree  181/300 (tree index:180) done accuracy:0.841364 logloss:0.387884\n",
      "[INFO 23-07-16 18:50:47.9176 CEST random_forest.cc:802] Training of tree  187/300 (tree index:187) done accuracy:0.840842 logloss:0.387613\n",
      "[INFO 23-07-16 18:50:59.4683 CEST random_forest.cc:802] Training of tree  193/300 (tree index:192) done accuracy:0.841146 logloss:0.38747\n",
      "[INFO 23-07-16 18:51:11.4404 CEST random_forest.cc:802] Training of tree  199/300 (tree index:198) done accuracy:0.842016 logloss:0.38736\n",
      "[INFO 23-07-16 18:51:23.3757 CEST random_forest.cc:802] Training of tree  205/300 (tree index:205) done accuracy:0.842538 logloss:0.387214\n"
     ]
    },
    {
     "name": "stderr",
     "output_type": "stream",
     "text": [
      "[INFO 23-07-16 18:51:35.6501 CEST random_forest.cc:802] Training of tree  211/300 (tree index:210) done accuracy:0.841973 logloss:0.386871\n",
      "[INFO 23-07-16 18:51:46.8035 CEST random_forest.cc:802] Training of tree  217/300 (tree index:216) done accuracy:0.842451 logloss:0.38683\n",
      "[INFO 23-07-16 18:51:58.1628 CEST random_forest.cc:802] Training of tree  223/300 (tree index:222) done accuracy:0.841799 logloss:0.386792\n",
      "[INFO 23-07-16 18:52:10.1385 CEST random_forest.cc:802] Training of tree  229/300 (tree index:228) done accuracy:0.842668 logloss:0.386724\n",
      "[INFO 23-07-16 18:52:22.0452 CEST random_forest.cc:802] Training of tree  235/300 (tree index:235) done accuracy:0.843364 logloss:0.386433\n",
      "[INFO 23-07-16 18:52:33.9171 CEST random_forest.cc:802] Training of tree  241/300 (tree index:240) done accuracy:0.843929 logloss:0.386209\n",
      "[INFO 23-07-16 18:52:46.0135 CEST random_forest.cc:802] Training of tree  247/300 (tree index:246) done accuracy:0.843625 logloss:0.386268\n",
      "[INFO 23-07-16 18:52:57.7107 CEST random_forest.cc:802] Training of tree  253/300 (tree index:252) done accuracy:0.843712 logloss:0.386131\n",
      "[INFO 23-07-16 18:53:09.5321 CEST random_forest.cc:802] Training of tree  259/300 (tree index:259) done accuracy:0.844495 logloss:0.386123\n",
      "[INFO 23-07-16 18:53:21.3825 CEST random_forest.cc:802] Training of tree  265/300 (tree index:264) done accuracy:0.844234 logloss:0.385997\n",
      "[INFO 23-07-16 18:53:31.5769 CEST random_forest.cc:802] Training of tree  270/300 (tree index:269) done accuracy:0.844582 logloss:0.386001\n",
      "[INFO 23-07-16 18:53:43.8653 CEST random_forest.cc:802] Training of tree  276/300 (tree index:275) done accuracy:0.844364 logloss:0.385845\n",
      "[INFO 23-07-16 18:53:55.9992 CEST random_forest.cc:802] Training of tree  282/300 (tree index:281) done accuracy:0.844625 logloss:0.385806\n",
      "[INFO 23-07-16 18:54:07.7422 CEST random_forest.cc:802] Training of tree  288/300 (tree index:287) done accuracy:0.844364 logloss:0.385838\n",
      "[INFO 23-07-16 18:54:19.2542 CEST random_forest.cc:802] Training of tree  294/300 (tree index:293) done accuracy:0.844799 logloss:0.385752\n",
      "[INFO 23-07-16 18:54:31.1309 CEST random_forest.cc:802] Training of tree  300/300 (tree index:299) done accuracy:0.845234 logloss:0.385578\n",
      "[INFO 23-07-16 18:54:31.1311 CEST random_forest.cc:882] Final OOB metrics: accuracy:0.845234 logloss:0.385578\n",
      "[INFO 23-07-16 18:54:31.2007 CEST kernel.cc:926] Export model in log directory: /tmp/tmpbpn_cc8s with prefix 66247e2f699446c2\n",
      "[INFO 23-07-16 18:54:31.4255 CEST kernel.cc:944] Save model in resources\n",
      "[INFO 23-07-16 18:54:31.4276 CEST abstract_model.cc:849] Model self evaluation:\n",
      "Number of predictions (without weights): 22996\n",
      "Number of predictions (with weights): 22996\n",
      "Task: CLASSIFICATION\n",
      "Label: __LABEL\n",
      "\n",
      "Accuracy: 0.845234  CI95[W][0.841257 0.849146]\n",
      "LogLoss: : 0.385578\n",
      "ErrorRate: : 0.154766\n",
      "\n",
      "Default Accuracy: : 0.609367\n",
      "Default LogLoss: : 0.66903\n",
      "Default ErrorRate: : 0.390633\n",
      "\n",
      "Confusion Table:\n",
      "truth\\prediction\n",
      "   0      1     2\n",
      "0  0      0     0\n",
      "1  0  12534  1479\n",
      "2  0   2080  6903\n",
      "Total: 22996\n",
      "\n",
      "One vs other classes:\n",
      "\n",
      "[INFO 23-07-16 18:54:31.5315 CEST kernel.cc:1243] Loading model from path /tmp/tmpbpn_cc8s/model/ with prefix 66247e2f699446c2\n",
      "[INFO 23-07-16 18:54:33.3767 CEST decision_forest.cc:660] Model loaded with 300 root(s), 384496 node(s), and 1 input feature(s).\n",
      "[INFO 23-07-16 18:54:33.3767 CEST abstract_model.cc:1311] Engine \"RandomForestGeneric\" built\n",
      "[INFO 23-07-16 18:54:33.3767 CEST kernel.cc:1075] Use fast generic engine\n"
     ]
    },
    {
     "name": "stdout",
     "output_type": "stream",
     "text": [
      "Model trained in 0:10:03.024267\n",
      "Compiling model...\n"
     ]
    },
    {
     "name": "stderr",
     "output_type": "stream",
     "text": [
      "2023-07-16 18:54:33.522754: I tensorflow/core/common_runtime/executor.cc:1197] [/device:CPU:0] (DEBUG INFO) Executor start aborting (this does not indicate an error and you can ignore this message): INVALID_ARGUMENT: You must feed a value for placeholder tensor 'Placeholder/_0' with dtype string and shape [22996]\n",
      "\t [[{{node Placeholder/_0}}]]\n"
     ]
    },
    {
     "name": "stdout",
     "output_type": "stream",
     "text": [
      "Model compiled.\n"
     ]
    },
    {
     "data": {
      "text/plain": [
       "<keras.callbacks.History at 0x7feb0d4d41d0>"
      ]
     },
     "execution_count": 17,
     "metadata": {},
     "output_type": "execute_result"
    }
   ],
   "source": [
    "%set_cell_height 300\n",
    "\n",
    "# Specify the model.\n",
    "model_1 = tfdf.keras.RandomForestModel(num_trees=300, verbose=2, num_threads=3)\n",
    "\n",
    "# Train the model.\n",
    "model_1.fit(x=train_ds, batch_size=None)"
   ]
  },
  {
   "cell_type": "code",
   "execution_count": 19,
   "metadata": {
    "execution": {
     "iopub.execute_input": "2022-12-14T12:27:53.861879Z",
     "iopub.status.busy": "2022-12-14T12:27:53.861292Z",
     "iopub.status.idle": "2022-12-14T12:27:54.395342Z",
     "shell.execute_reply": "2022-12-14T12:27:54.394656Z"
    },
    "id": "cpf-wHl094S1"
   },
   "outputs": [
    {
     "name": "stdout",
     "output_type": "stream",
     "text": [
      "9/9 [==============================] - 2s 181ms/step - loss: 0.0000e+00 - accuracy: 0.9079\n",
      "BinaryCrossentropyloss: 0.0\n",
      "Accuracy: 0.9079387187957764\n"
     ]
    }
   ],
   "source": [
    "model_1.compile(metrics=[\"accuracy\"])\n",
    "evaluation = model_1.evaluate(test_ds, batch_size=None)\n",
    "\n",
    "print(f\"BinaryCrossentropyloss: {evaluation[0]}\")\n",
    "print(f\"Accuracy: {evaluation[1]}\")"
   ]
  },
  {
   "cell_type": "code",
   "execution_count": 20,
   "metadata": {
    "execution": {
     "iopub.execute_input": "2022-12-14T12:27:54.399169Z",
     "iopub.status.busy": "2022-12-14T12:27:54.398503Z",
     "iopub.status.idle": "2022-12-14T12:27:54.837481Z",
     "shell.execute_reply": "2022-12-14T12:27:54.836829Z"
    },
    "id": "OnTTtBNmjpo7"
   },
   "outputs": [
    {
     "data": {
      "image/png": "[encoded data removed]",
      "text/plain": [
       "<Figure size 640x480 with 1 Axes>"
      ]
     },
     "metadata": {},
     "output_type": "display_data"
    }
   ],
   "source": [
    "import matplotlib.pyplot as plt\n",
    "\n",
    "logs = model_1.make_inspector().training_logs()\n",
    "plt.plot([log.num_trees for log in logs], [log.evaluation.accuracy for log in logs])\n",
    "plt.xlabel(\"Number of trees\")\n",
    "plt.ylabel(\"Out-of-bag accuracy\")\n",
    "pass"
   ]
  },
  {
   "cell_type": "code",
   "execution_count": 21,
   "metadata": {},
   "outputs": [
    {
     "name": "stdout",
     "output_type": "stream",
     "text": [
      "9/9 [==============================] - 2s 178ms/step\n",
      "cut: 0.25, acc: 0.6406268003226178, prec: 0.4180082366154998, rec: 0.9955416852429781, f1: 0.588793671720501\n",
      "cut: 0.3, acc: 0.7269270653301072, prec: 0.4860837168529476, rec: 0.9888542131074454, f1: 0.6517778430796356\n",
      "cut: 0.35, acc: 0.7921419518377694, prec: 0.5556965237249429, rec: 0.9763709317877842, f1: 0.7082794307891332\n",
      "cut: 0.39999999999999997, acc: 0.8420324922226063, prec: 0.627039627039627, rec: 0.9594293357111012, f1: 0.7584140969162995\n",
      "cut: 0.44999999999999996, acc: 0.8789030994354188, prec: 0.7014874915483434, rec: 0.925100312082033, f1: 0.7979234762545664\n",
      "cut: 0.49999999999999994, acc: 0.9079387026155087, prec: 0.7849250197316495, rec: 0.8867588051716451, f1: 0.8327402135231317\n",
      "cut: 0.5499999999999999, acc: 0.923493490033414, prec: 0.863992623328723, rec: 0.8354881854658939, f1: 0.8495013599274704\n",
      "cut: 0.5999999999999999, acc: 0.9120866459269501, prec: 0.9048140043763676, rec: 0.7374052608114133, f1: 0.8125767624662246\n",
      "cut: 0.6499999999999999, acc: 0.8923839151976034, prec: 0.9354624085163007, rec: 0.6268390548372715, f1: 0.7506673785371063\n",
      "cut: 0.7, acc: 0.8661136075584744, prec: 0.96, rec: 0.5028979045920642, f1: 0.6600351082504388\n",
      "cut: 0.7499999999999999, acc: 0.8394976379767254, prec: 0.9743303571428571, rec: 0.38921087828800716, f1: 0.5562280981204205\n"
     ]
    }
   ],
   "source": [
    "p = model_1.predict(test_ds)\n",
    "\n",
    "#Fish for best cut\n",
    "for cut in np.arange(0.25, .8, .05):\n",
    "    tp = 0\n",
    "    tn = 0\n",
    "    fp = 0\n",
    "    fn = 0\n",
    "    N = len(p)\n",
    "    for i in range(N):\n",
    "        tru = test_cases[i][\"label\"] == '1'\n",
    "        prd = p[i] > cut\n",
    "        if tru and prd == tru:\n",
    "            tp = tp + 1\n",
    "        if tru and prd != tru:\n",
    "            fn = fn + 1\n",
    "        if tru == False and prd == tru:\n",
    "            tn = tn + 1\n",
    "        if tru == False and prd != tru:\n",
    "            fp = fp + 1\n",
    "    precision = tp/(tp+fp)\n",
    "    recall = tp/(tp+fn)\n",
    "    f1_score = 2 * (precision * recall) / (precision + recall)\n",
    "    print(\"cut: {}, acc: {}, prec: {}, rec: {}, f1: {}\".format(cut, (tp+tn)/N, precision, recall, f1_score))"
   ]
  },
  {
   "cell_type": "code",
   "execution_count": 15,
   "metadata": {},
   "outputs": [
    {
     "name": "stdout",
     "output_type": "stream",
     "text": [
      "c: 0.0, n = 6525, tru: 378\n",
      "c: 0.05, n = 6396, tru: 378\n",
      "c: 0.1, n = 5885, tru: 377\n",
      "c: 0.15000000000000002, n = 4983, tru: 376\n",
      "c: 0.2, n = 4009, tru: 374\n",
      "c: 0.25, n = 3139, tru: 368\n",
      "c: 0.30000000000000004, n = 2379, tru: 351\n",
      "c: 0.35000000000000003, n = 1765, tru: 323\n",
      "c: 0.4, n = 1261, tru: 281\n",
      "c: 0.45, n = 785, tru: 209\n"
     ]
    }
   ],
   "source": [
    "cut = 55\n",
    "N = len(p)\n",
    "with open(\"/home/ralf//IdeaProjects/LitBall-training/pred.json\", \"w\") as file:\n",
    "    for c in np.arange(0., .5, .05):\n",
    "        s = 0\n",
    "        t = 0\n",
    "        for i in range(N):\n",
    "            tru = test_cases[i][\"label\"] == '1'\n",
    "            val = int((p[i]+0.005) * 100)\n",
    "            pred = False\n",
    "            if val > cut:\n",
    "                pred = True\n",
    "            elif val > 100*c:\n",
    "                s = s+1\n",
    "                if tru:\n",
    "                    t = t+1\n",
    "        print(\"c: {}, n = {}, tru: {}\".format(c, s, t))"
   ]
  },
  {
   "cell_type": "code",
   "execution_count": null,
   "metadata": {},
   "outputs": [],
   "source": []
  }
 ],
 "metadata": {
  "colab": {
   "collapsed_sections": [],
   "name": "intermediate_colab.ipynb",
   "provenance": [],
   "toc_visible": true
  },
  "kernelspec": {
   "display_name": "Python 3 (ipykernel)",
   "language": "python",
   "name": "python3"
  },
  "language_info": {
   "codemirror_mode": {
    "name": "ipython",
    "version": 3
   },
   "file_extension": ".py",
   "mimetype": "text/x-python",
   "name": "python",
   "nbconvert_exporter": "python",
   "pygments_lexer": "ipython3",
   "version": "3.11.4"
  }
 },
 "nbformat": 4,
 "nbformat_minor": 1
}
