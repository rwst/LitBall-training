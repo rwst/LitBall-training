{
 "cells": [
  {
   "cell_type": "markdown",
   "metadata": {
    "id": "Rzskapxq7gdo"
   },
   "source": [
    "## Setup"
   ]
  },
  {
   "cell_type": "markdown",
   "metadata": {
    "id": "i7PlfbnxYcPf"
   },
   "source": [
    "Import the necessary libraries."
   ]
  },
  {
   "cell_type": "code",
   "execution_count": 1,
   "metadata": {
    "execution": {
     "iopub.execute_input": "2022-12-14T12:26:52.363724Z",
     "iopub.status.busy": "2022-12-14T12:26:52.363466Z",
     "iopub.status.idle": "2022-12-14T12:26:54.305215Z",
     "shell.execute_reply": "2022-12-14T12:26:54.304527Z"
    },
    "id": "RsCV2oAS7gC_"
   },
   "outputs": [
    {
     "name": "stderr",
     "output_type": "stream",
     "text": [
      "WARNING:root:TF Parameter Server distributed training not available.\n"
     ]
    }
   ],
   "source": [
    "import tensorflow_decision_forests as tfdf\n",
    "\n",
    "import os\n",
    "import numpy as np\n",
    "import pandas as pd\n",
    "import tensorflow as tf\n",
    "import math\n",
    "import json"
   ]
  },
  {
   "cell_type": "markdown",
   "metadata": {
    "id": "w2fsI0y5x5i5"
   },
   "source": [
    "The hidden code cell limits the output height in colab."
   ]
  },
  {
   "cell_type": "code",
   "execution_count": 2,
   "metadata": {
    "cellView": "form",
    "execution": {
     "iopub.execute_input": "2022-12-14T12:26:54.310354Z",
     "iopub.status.busy": "2022-12-14T12:26:54.308974Z",
     "iopub.status.idle": "2022-12-14T12:26:54.313977Z",
     "shell.execute_reply": "2022-12-14T12:26:54.313392Z"
    },
    "id": "jZXB4o6Tlu0i"
   },
   "outputs": [],
   "source": [
    "#@title\n",
    "\n",
    "from IPython.core.magic import register_line_magic\n",
    "from IPython.display import Javascript\n",
    "from IPython.display import display as ipy_display\n",
    "\n",
    "# Some of the model training logs can cover the full\n",
    "# screen if not compressed to a smaller viewport.\n",
    "# This magic allows setting a max height for a cell.\n",
    "@register_line_magic\n",
    "def set_cell_height(size):\n",
    "  ipy_display(\n",
    "      Javascript(\"google.colab.output.setIframeHeight(0, true, {maxHeight: \" +\n",
    "                 str(size) + \"})\"))"
   ]
  },
  {
   "cell_type": "code",
   "execution_count": 4,
   "metadata": {},
   "outputs": [
    {
     "data": {
      "text/plain": [
       "0"
      ]
     },
     "execution_count": 4,
     "metadata": {},
     "output_type": "execute_result"
    }
   ],
   "source": [
    "from google.cloud import storage\n",
    "import io\n",
    "os.environ['GOOGLE_APPLICATION_CREDENTIALS'] = \"/home/ralf/.config/gcloud/application_default_credentials.json\"\n",
    "os.environ['GOOGLE_CLOUD_PROJECT'] = \"359515640875\"\n",
    "client = storage.Client()\n",
    "bucket = client.get_bucket('06fff4a5ff3c1cb7a4089a63899047ff8dcd')\n",
    "# Then do other things...\n",
    "blob1 = bucket.get_blob('ROTVRSV')\n",
    "blob2 = bucket.get_blob('DENV')\n",
    "in_memory_file1 = io.BytesIO()\n",
    "blob1.download_to_file(in_memory_file1)\n",
    "in_memory_file1.seek(0)\n",
    "in_memory_file2 = io.BytesIO()\n",
    "blob2.download_to_file(in_memory_file2)\n",
    "in_memory_file2.seek(0)"
   ]
  },
  {
   "cell_type": "code",
   "execution_count": 5,
   "metadata": {
    "execution": {
     "iopub.execute_input": "2022-12-14T12:26:55.925820Z",
     "iopub.status.busy": "2022-12-14T12:26:55.925271Z",
     "iopub.status.idle": "2022-12-14T12:27:00.827053Z",
     "shell.execute_reply": "2022-12-14T12:27:00.826354Z"
    },
    "id": "uVN-j0E4Q1T3"
   },
   "outputs": [],
   "source": [
    "# Load the dataset\n",
    "import tensorflow_datasets as tfds\n",
    "import tensorflow as tf\n",
    "import pandas as pd\n",
    "\n",
    "# Assuming your dataset is stored in a CSV file\n",
    "dataset_path = \"/home/ralf/IdeaProjects/LitBall-training/EXP-Title+TLDR/\"\n",
    "\n",
    "trds = pd.read_json(in_memory_file1,\n",
    "                 dtype={\"preprocessedText\": str, \"label\": str},\n",
    "                lines=True\n",
    "                 )\n",
    "teds = pd.read_json(in_memory_file2,\n",
    "                 dtype={\"preprocessedText\": str, \"label\": str},\n",
    "                lines=True\n",
    "                 )\n",
    "tr_ds = tfdf.keras.pd_dataframe_to_tf_dataset(trds, label=\"label\")\n",
    "te_ds = tfdf.keras.pd_dataframe_to_tf_dataset(teds, label=\"label\")\n",
    "\n",
    "with open(dataset_path + \"DENV\") as file:\n",
    "    test_lines = file.readlines()"
   ]
  },
  {
   "cell_type": "code",
   "execution_count": 25,
   "metadata": {
    "execution": {
     "iopub.execute_input": "2022-12-14T12:27:00.831031Z",
     "iopub.status.busy": "2022-12-14T12:27:00.830774Z",
     "iopub.status.idle": "2022-12-14T12:27:00.919993Z",
     "shell.execute_reply": "2022-12-14T12:27:00.919392Z"
    },
    "id": "yqYDKTKdSPYw"
   },
   "outputs": [],
   "source": [
    "def prepare_dataset1(example, label):\n",
    "    return {\"sentence\" : example[\"preprocessedText\"]}, label\n",
    "\n",
    "def prepare_dataset2(s):\n",
    "    m = json.loads(s)\n",
    "#    sp = tf.strings.split(m[\"originalTitle\"])\n",
    "#    print(sp)\n",
    "#    m[\"prep\"] = tf.RaggedTensor.from_tensor(sp, ragged_rank=1)\n",
    "#    m[\"prep\"] = tf.constant(sp)\n",
    "    return m\n",
    "\n",
    "train_ds = tr_ds.map(prepare_dataset1)\n",
    "test_ds = te_ds.map(prepare_dataset1)\n",
    "#for features, label in test_ds:\n",
    "#    print(\"features:\", features)\n",
    "#    print(\"label:\", label)\n",
    "#    break\n",
    "    \n",
    "test_cases = list(map(prepare_dataset2, test_lines))"
   ]
  },
  {
   "cell_type": "code",
   "execution_count": 32,
   "metadata": {},
   "outputs": [
    {
     "ename": "ValueError",
     "evalue": "in user code:\n\n    /home/ralf/.local/lib/python3.6/site-packages/tensorflow_hub/keras_layer.py:242 call  *\n        result = smart_cond.smart_cond(training,\n    /home/ralf/.local/lib/python3.6/site-packages/tensorflow/python/saved_model/load.py:664 _call_attribute  **\n        return instance.__call__(*args, **kwargs)\n    /home/ralf/.local/lib/python3.6/site-packages/tensorflow/python/eager/def_function.py:885 __call__\n        result = self._call(*args, **kwds)\n    /home/ralf/.local/lib/python3.6/site-packages/tensorflow/python/eager/def_function.py:933 _call\n        self._initialize(args, kwds, add_initializers_to=initializers)\n    /home/ralf/.local/lib/python3.6/site-packages/tensorflow/python/eager/def_function.py:760 _initialize\n        *args, **kwds))\n    /home/ralf/.local/lib/python3.6/site-packages/tensorflow/python/eager/function.py:3066 _get_concrete_function_internal_garbage_collected\n        graph_function, _ = self._maybe_define_function(args, kwargs)\n    /home/ralf/.local/lib/python3.6/site-packages/tensorflow/python/eager/function.py:3463 _maybe_define_function\n        graph_function = self._create_graph_function(args, kwargs)\n    /home/ralf/.local/lib/python3.6/site-packages/tensorflow/python/eager/function.py:3308 _create_graph_function\n        capture_by_value=self._capture_by_value),\n    /home/ralf/.local/lib/python3.6/site-packages/tensorflow/python/framework/func_graph.py:1007 func_graph_from_py_func\n        func_outputs = python_func(*func_args, **func_kwargs)\n    /home/ralf/.local/lib/python3.6/site-packages/tensorflow/python/eager/def_function.py:668 wrapped_fn\n        out = weak_wrapped_fn().__wrapped__(*args, **kwds)\n    /home/ralf/.local/lib/python3.6/site-packages/tensorflow/python/saved_model/function_deserialization.py:294 restored_function_body\n        \"\\n\\n\".join(signature_descriptions)))\n\n    ValueError: Could not find matching function to call loaded from the SavedModel. Got:\n      Positional arguments (3 total):\n        * Tensor(\"inputs:0\", shape=(None,), dtype=string)\n        * False\n        * None\n      Keyword arguments: {}\n    \n    Expected these arguments to match one of the following 4 option(s):\n    \n    Option 1:\n      Positional arguments (3 total):\n        * {'input_type_ids': TensorSpec(shape=(None, None), dtype=tf.int32, name='input_type_ids'), 'input_mask': TensorSpec(shape=(None, None), dtype=tf.int32, name='input_mask'), 'input_word_ids': TensorSpec(shape=(None, None), dtype=tf.int32, name='input_word_ids')}\n        * False\n        * None\n      Keyword arguments: {}\n    \n    Option 2:\n      Positional arguments (3 total):\n        * {'input_word_ids': TensorSpec(shape=(None, None), dtype=tf.int32, name='inputs/input_word_ids'), 'input_mask': TensorSpec(shape=(None, None), dtype=tf.int32, name='inputs/input_mask'), 'input_type_ids': TensorSpec(shape=(None, None), dtype=tf.int32, name='inputs/input_type_ids')}\n        * True\n        * None\n      Keyword arguments: {}\n    \n    Option 3:\n      Positional arguments (3 total):\n        * {'input_type_ids': TensorSpec(shape=(None, None), dtype=tf.int32, name='inputs/input_type_ids'), 'input_word_ids': TensorSpec(shape=(None, None), dtype=tf.int32, name='inputs/input_word_ids'), 'input_mask': TensorSpec(shape=(None, None), dtype=tf.int32, name='inputs/input_mask')}\n        * False\n        * None\n      Keyword arguments: {}\n    \n    Option 4:\n      Positional arguments (3 total):\n        * {'input_type_ids': TensorSpec(shape=(None, None), dtype=tf.int32, name='input_type_ids'), 'input_mask': TensorSpec(shape=(None, None), dtype=tf.int32, name='input_mask'), 'input_word_ids': TensorSpec(shape=(None, None), dtype=tf.int32, name='input_word_ids')}\n        * True\n        * None\n      Keyword arguments: {}\n",
     "output_type": "error",
     "traceback": [
      "\u001b[0;31m---------------------------------------------------------------------------\u001b[0m",
      "\u001b[0;31mValueError\u001b[0m                                Traceback (most recent call last)",
      "\u001b[0;32m<ipython-input-32-565e60865076>\u001b[0m in \u001b[0;36m<module>\u001b[0;34m\u001b[0m\n\u001b[1;32m      7\u001b[0m \u001b[0;34m\u001b[0m\u001b[0m\n\u001b[1;32m      8\u001b[0m \u001b[0msentence\u001b[0m \u001b[0;34m=\u001b[0m \u001b[0mtf\u001b[0m\u001b[0;34m.\u001b[0m\u001b[0mkeras\u001b[0m\u001b[0;34m.\u001b[0m\u001b[0mlayers\u001b[0m\u001b[0;34m.\u001b[0m\u001b[0mInput\u001b[0m\u001b[0;34m(\u001b[0m\u001b[0mshape\u001b[0m\u001b[0;34m=\u001b[0m\u001b[0;34m(\u001b[0m\u001b[0;34m)\u001b[0m\u001b[0;34m,\u001b[0m \u001b[0mname\u001b[0m\u001b[0;34m=\u001b[0m\u001b[0;34m\"sentence\"\u001b[0m\u001b[0;34m,\u001b[0m \u001b[0mdtype\u001b[0m\u001b[0;34m=\u001b[0m\u001b[0mtf\u001b[0m\u001b[0;34m.\u001b[0m\u001b[0mstring\u001b[0m\u001b[0;34m)\u001b[0m\u001b[0;34m\u001b[0m\u001b[0;34m\u001b[0m\u001b[0m\n\u001b[0;32m----> 9\u001b[0;31m \u001b[0membedded_sentence\u001b[0m \u001b[0;34m=\u001b[0m \u001b[0membedding\u001b[0m\u001b[0;34m(\u001b[0m\u001b[0msentence\u001b[0m\u001b[0;34m)\u001b[0m\u001b[0;34m\u001b[0m\u001b[0;34m\u001b[0m\u001b[0m\n\u001b[0m\u001b[1;32m     10\u001b[0m \u001b[0;34m\u001b[0m\u001b[0m\n\u001b[1;32m     11\u001b[0m \u001b[0mraw_inputs\u001b[0m \u001b[0;34m=\u001b[0m \u001b[0;34m{\u001b[0m\u001b[0;34m\"sentence\"\u001b[0m\u001b[0;34m:\u001b[0m \u001b[0msentence\u001b[0m\u001b[0;34m}\u001b[0m\u001b[0;34m\u001b[0m\u001b[0;34m\u001b[0m\u001b[0m\n",
      "\u001b[0;32m~/.local/lib/python3.6/site-packages/keras/engine/base_layer.py\u001b[0m in \u001b[0;36m__call__\u001b[0;34m(self, *args, **kwargs)\u001b[0m\n\u001b[1;32m    975\u001b[0m     \u001b[0;32mif\u001b[0m \u001b[0m_in_functional_construction_mode\u001b[0m\u001b[0;34m(\u001b[0m\u001b[0mself\u001b[0m\u001b[0;34m,\u001b[0m \u001b[0minputs\u001b[0m\u001b[0;34m,\u001b[0m \u001b[0margs\u001b[0m\u001b[0;34m,\u001b[0m \u001b[0mkwargs\u001b[0m\u001b[0;34m,\u001b[0m \u001b[0minput_list\u001b[0m\u001b[0;34m)\u001b[0m\u001b[0;34m:\u001b[0m\u001b[0;34m\u001b[0m\u001b[0;34m\u001b[0m\u001b[0m\n\u001b[1;32m    976\u001b[0m       return self._functional_construction_call(inputs, args, kwargs,\n\u001b[0;32m--> 977\u001b[0;31m                                                 input_list)\n\u001b[0m\u001b[1;32m    978\u001b[0m \u001b[0;34m\u001b[0m\u001b[0m\n\u001b[1;32m    979\u001b[0m     \u001b[0;31m# Maintains info about the `Layer.call` stack.\u001b[0m\u001b[0;34m\u001b[0m\u001b[0;34m\u001b[0m\u001b[0;34m\u001b[0m\u001b[0m\n",
      "\u001b[0;32m~/.local/lib/python3.6/site-packages/keras/engine/base_layer.py\u001b[0m in \u001b[0;36m_functional_construction_call\u001b[0;34m(self, inputs, args, kwargs, input_list)\u001b[0m\n\u001b[1;32m   1113\u001b[0m       \u001b[0;31m# Check input assumptions set after layer building, e.g. input shape.\u001b[0m\u001b[0;34m\u001b[0m\u001b[0;34m\u001b[0m\u001b[0;34m\u001b[0m\u001b[0m\n\u001b[1;32m   1114\u001b[0m       outputs = self._keras_tensor_symbolic_call(\n\u001b[0;32m-> 1115\u001b[0;31m           inputs, input_masks, args, kwargs)\n\u001b[0m\u001b[1;32m   1116\u001b[0m \u001b[0;34m\u001b[0m\u001b[0m\n\u001b[1;32m   1117\u001b[0m       \u001b[0;32mif\u001b[0m \u001b[0moutputs\u001b[0m \u001b[0;32mis\u001b[0m \u001b[0;32mNone\u001b[0m\u001b[0;34m:\u001b[0m\u001b[0;34m\u001b[0m\u001b[0;34m\u001b[0m\u001b[0m\n",
      "\u001b[0;32m~/.local/lib/python3.6/site-packages/keras/engine/base_layer.py\u001b[0m in \u001b[0;36m_keras_tensor_symbolic_call\u001b[0;34m(self, inputs, input_masks, args, kwargs)\u001b[0m\n\u001b[1;32m    846\u001b[0m       \u001b[0;32mreturn\u001b[0m \u001b[0mtf\u001b[0m\u001b[0;34m.\u001b[0m\u001b[0mnest\u001b[0m\u001b[0;34m.\u001b[0m\u001b[0mmap_structure\u001b[0m\u001b[0;34m(\u001b[0m\u001b[0mkeras_tensor\u001b[0m\u001b[0;34m.\u001b[0m\u001b[0mKerasTensor\u001b[0m\u001b[0;34m,\u001b[0m \u001b[0moutput_signature\u001b[0m\u001b[0;34m)\u001b[0m\u001b[0;34m\u001b[0m\u001b[0;34m\u001b[0m\u001b[0m\n\u001b[1;32m    847\u001b[0m     \u001b[0;32melse\u001b[0m\u001b[0;34m:\u001b[0m\u001b[0;34m\u001b[0m\u001b[0;34m\u001b[0m\u001b[0m\n\u001b[0;32m--> 848\u001b[0;31m       \u001b[0;32mreturn\u001b[0m \u001b[0mself\u001b[0m\u001b[0;34m.\u001b[0m\u001b[0m_infer_output_signature\u001b[0m\u001b[0;34m(\u001b[0m\u001b[0minputs\u001b[0m\u001b[0;34m,\u001b[0m \u001b[0margs\u001b[0m\u001b[0;34m,\u001b[0m \u001b[0mkwargs\u001b[0m\u001b[0;34m,\u001b[0m \u001b[0minput_masks\u001b[0m\u001b[0;34m)\u001b[0m\u001b[0;34m\u001b[0m\u001b[0;34m\u001b[0m\u001b[0m\n\u001b[0m\u001b[1;32m    849\u001b[0m \u001b[0;34m\u001b[0m\u001b[0m\n\u001b[1;32m    850\u001b[0m   \u001b[0;32mdef\u001b[0m \u001b[0m_infer_output_signature\u001b[0m\u001b[0;34m(\u001b[0m\u001b[0mself\u001b[0m\u001b[0;34m,\u001b[0m \u001b[0minputs\u001b[0m\u001b[0;34m,\u001b[0m \u001b[0margs\u001b[0m\u001b[0;34m,\u001b[0m \u001b[0mkwargs\u001b[0m\u001b[0;34m,\u001b[0m \u001b[0minput_masks\u001b[0m\u001b[0;34m)\u001b[0m\u001b[0;34m:\u001b[0m\u001b[0;34m\u001b[0m\u001b[0;34m\u001b[0m\u001b[0m\n",
      "\u001b[0;32m~/.local/lib/python3.6/site-packages/keras/engine/base_layer.py\u001b[0m in \u001b[0;36m_infer_output_signature\u001b[0;34m(self, inputs, args, kwargs, input_masks)\u001b[0m\n\u001b[1;32m    886\u001b[0m           \u001b[0mself\u001b[0m\u001b[0;34m.\u001b[0m\u001b[0m_maybe_build\u001b[0m\u001b[0;34m(\u001b[0m\u001b[0minputs\u001b[0m\u001b[0;34m)\u001b[0m\u001b[0;34m\u001b[0m\u001b[0;34m\u001b[0m\u001b[0m\n\u001b[1;32m    887\u001b[0m           \u001b[0minputs\u001b[0m \u001b[0;34m=\u001b[0m \u001b[0mself\u001b[0m\u001b[0;34m.\u001b[0m\u001b[0m_maybe_cast_inputs\u001b[0m\u001b[0;34m(\u001b[0m\u001b[0minputs\u001b[0m\u001b[0;34m)\u001b[0m\u001b[0;34m\u001b[0m\u001b[0;34m\u001b[0m\u001b[0m\n\u001b[0;32m--> 888\u001b[0;31m           \u001b[0moutputs\u001b[0m \u001b[0;34m=\u001b[0m \u001b[0mcall_fn\u001b[0m\u001b[0;34m(\u001b[0m\u001b[0minputs\u001b[0m\u001b[0;34m,\u001b[0m \u001b[0;34m*\u001b[0m\u001b[0margs\u001b[0m\u001b[0;34m,\u001b[0m \u001b[0;34m**\u001b[0m\u001b[0mkwargs\u001b[0m\u001b[0;34m)\u001b[0m\u001b[0;34m\u001b[0m\u001b[0;34m\u001b[0m\u001b[0m\n\u001b[0m\u001b[1;32m    889\u001b[0m \u001b[0;34m\u001b[0m\u001b[0m\n\u001b[1;32m    890\u001b[0m         \u001b[0mself\u001b[0m\u001b[0;34m.\u001b[0m\u001b[0m_handle_activity_regularization\u001b[0m\u001b[0;34m(\u001b[0m\u001b[0minputs\u001b[0m\u001b[0;34m,\u001b[0m \u001b[0moutputs\u001b[0m\u001b[0;34m)\u001b[0m\u001b[0;34m\u001b[0m\u001b[0;34m\u001b[0m\u001b[0m\n",
      "\u001b[0;32m~/.local/lib/python3.6/site-packages/tensorflow/python/autograph/impl/api.py\u001b[0m in \u001b[0;36mwrapper\u001b[0;34m(*args, **kwargs)\u001b[0m\n\u001b[1;32m    693\u001b[0m       \u001b[0;32mexcept\u001b[0m \u001b[0mException\u001b[0m \u001b[0;32mas\u001b[0m \u001b[0me\u001b[0m\u001b[0;34m:\u001b[0m  \u001b[0;31m# pylint:disable=broad-except\u001b[0m\u001b[0;34m\u001b[0m\u001b[0;34m\u001b[0m\u001b[0m\n\u001b[1;32m    694\u001b[0m         \u001b[0;32mif\u001b[0m \u001b[0mhasattr\u001b[0m\u001b[0;34m(\u001b[0m\u001b[0me\u001b[0m\u001b[0;34m,\u001b[0m \u001b[0;34m'ag_error_metadata'\u001b[0m\u001b[0;34m)\u001b[0m\u001b[0;34m:\u001b[0m\u001b[0;34m\u001b[0m\u001b[0;34m\u001b[0m\u001b[0m\n\u001b[0;32m--> 695\u001b[0;31m           \u001b[0;32mraise\u001b[0m \u001b[0me\u001b[0m\u001b[0;34m.\u001b[0m\u001b[0mag_error_metadata\u001b[0m\u001b[0;34m.\u001b[0m\u001b[0mto_exception\u001b[0m\u001b[0;34m(\u001b[0m\u001b[0me\u001b[0m\u001b[0;34m)\u001b[0m\u001b[0;34m\u001b[0m\u001b[0;34m\u001b[0m\u001b[0m\n\u001b[0m\u001b[1;32m    696\u001b[0m         \u001b[0;32melse\u001b[0m\u001b[0;34m:\u001b[0m\u001b[0;34m\u001b[0m\u001b[0;34m\u001b[0m\u001b[0m\n\u001b[1;32m    697\u001b[0m           \u001b[0;32mraise\u001b[0m\u001b[0;34m\u001b[0m\u001b[0;34m\u001b[0m\u001b[0m\n",
      "\u001b[0;31mValueError\u001b[0m: in user code:\n\n    /home/ralf/.local/lib/python3.6/site-packages/tensorflow_hub/keras_layer.py:242 call  *\n        result = smart_cond.smart_cond(training,\n    /home/ralf/.local/lib/python3.6/site-packages/tensorflow/python/saved_model/load.py:664 _call_attribute  **\n        return instance.__call__(*args, **kwargs)\n    /home/ralf/.local/lib/python3.6/site-packages/tensorflow/python/eager/def_function.py:885 __call__\n        result = self._call(*args, **kwds)\n    /home/ralf/.local/lib/python3.6/site-packages/tensorflow/python/eager/def_function.py:933 _call\n        self._initialize(args, kwds, add_initializers_to=initializers)\n    /home/ralf/.local/lib/python3.6/site-packages/tensorflow/python/eager/def_function.py:760 _initialize\n        *args, **kwds))\n    /home/ralf/.local/lib/python3.6/site-packages/tensorflow/python/eager/function.py:3066 _get_concrete_function_internal_garbage_collected\n        graph_function, _ = self._maybe_define_function(args, kwargs)\n    /home/ralf/.local/lib/python3.6/site-packages/tensorflow/python/eager/function.py:3463 _maybe_define_function\n        graph_function = self._create_graph_function(args, kwargs)\n    /home/ralf/.local/lib/python3.6/site-packages/tensorflow/python/eager/function.py:3308 _create_graph_function\n        capture_by_value=self._capture_by_value),\n    /home/ralf/.local/lib/python3.6/site-packages/tensorflow/python/framework/func_graph.py:1007 func_graph_from_py_func\n        func_outputs = python_func(*func_args, **func_kwargs)\n    /home/ralf/.local/lib/python3.6/site-packages/tensorflow/python/eager/def_function.py:668 wrapped_fn\n        out = weak_wrapped_fn().__wrapped__(*args, **kwds)\n    /home/ralf/.local/lib/python3.6/site-packages/tensorflow/python/saved_model/function_deserialization.py:294 restored_function_body\n        \"\\n\\n\".join(signature_descriptions)))\n\n    ValueError: Could not find matching function to call loaded from the SavedModel. Got:\n      Positional arguments (3 total):\n        * Tensor(\"inputs:0\", shape=(None,), dtype=string)\n        * False\n        * None\n      Keyword arguments: {}\n    \n    Expected these arguments to match one of the following 4 option(s):\n    \n    Option 1:\n      Positional arguments (3 total):\n        * {'input_type_ids': TensorSpec(shape=(None, None), dtype=tf.int32, name='input_type_ids'), 'input_mask': TensorSpec(shape=(None, None), dtype=tf.int32, name='input_mask'), 'input_word_ids': TensorSpec(shape=(None, None), dtype=tf.int32, name='input_word_ids')}\n        * False\n        * None\n      Keyword arguments: {}\n    \n    Option 2:\n      Positional arguments (3 total):\n        * {'input_word_ids': TensorSpec(shape=(None, None), dtype=tf.int32, name='inputs/input_word_ids'), 'input_mask': TensorSpec(shape=(None, None), dtype=tf.int32, name='inputs/input_mask'), 'input_type_ids': TensorSpec(shape=(None, None), dtype=tf.int32, name='inputs/input_type_ids')}\n        * True\n        * None\n      Keyword arguments: {}\n    \n    Option 3:\n      Positional arguments (3 total):\n        * {'input_type_ids': TensorSpec(shape=(None, None), dtype=tf.int32, name='inputs/input_type_ids'), 'input_word_ids': TensorSpec(shape=(None, None), dtype=tf.int32, name='inputs/input_word_ids'), 'input_mask': TensorSpec(shape=(None, None), dtype=tf.int32, name='inputs/input_mask')}\n        * False\n        * None\n      Keyword arguments: {}\n    \n    Option 4:\n      Positional arguments (3 total):\n        * {'input_type_ids': TensorSpec(shape=(None, None), dtype=tf.int32, name='input_type_ids'), 'input_mask': TensorSpec(shape=(None, None), dtype=tf.int32, name='input_mask'), 'input_word_ids': TensorSpec(shape=(None, None), dtype=tf.int32, name='input_word_ids')}\n        * True\n        * None\n      Keyword arguments: {}\n"
     ]
    }
   ],
   "source": [
    "#%set_cell_height 300\n",
    "\n",
    "import tensorflow_hub as hub\n",
    "# NNLM (https://tfhub.dev/google/nnlm-en-dim128/2) is also a good choice.\n",
    "# hub_url = \"http://tfhub.dev/google/universal-sentence-encoder/4\"\n",
    "embedding = hub.KerasLayer(\"/home/ralf//models/universal-sentence-encoder_4\")\n",
    "\n",
    "sentence = tf.keras.layers.Input(shape=(), name=\"sentence\", dtype=tf.string)\n",
    "embedded_sentence = embedding(sentence)\n",
    "\n",
    "raw_inputs = {\"sentence\": sentence}\n",
    "processed_inputs = {\"embedded_sentence\": embedded_sentence}\n",
    "preprocessor = tf.keras.Model(inputs=raw_inputs, outputs=processed_inputs)\n",
    "\n",
    "model_2 = tfdf.keras.RandomForestModel(\n",
    "    preprocessing=preprocessor,\n",
    "    num_trees=500)\n",
    "\n",
    "model_2.fit(x=train_ds)"
   ]
  },
  {
   "cell_type": "code",
   "execution_count": 29,
   "metadata": {},
   "outputs": [
    {
     "name": "stdout",
     "output_type": "stream",
     "text": [
      "136/136 [==============================] - 3s 16ms/step - loss: 0.0000e+00 - accuracy: 0.8486\n",
      "BinaryCrossentropyloss: 0.0\n",
      "Accuracy: 0.8486000895500183\n"
     ]
    }
   ],
   "source": [
    "model_2.compile(metrics=[\"accuracy\"])\n",
    "evaluation = model_2.evaluate(test_ds)\n",
    "\n",
    "print(f\"BinaryCrossentropyloss: {evaluation[0]}\")\n",
    "print(f\"Accuracy: {evaluation[1]}\")"
   ]
  },
  {
   "cell_type": "code",
   "execution_count": 30,
   "metadata": {
    "execution": {
     "iopub.execute_input": "2022-12-14T12:27:54.399169Z",
     "iopub.status.busy": "2022-12-14T12:27:54.398503Z",
     "iopub.status.idle": "2022-12-14T12:27:54.837481Z",
     "shell.execute_reply": "2022-12-14T12:27:54.836829Z"
    },
    "id": "OnTTtBNmjpo7"
   },
   "outputs": [
    {
     "data": {
      "image/png": "[encoded data removed]",
      "text/plain": [
       "<Figure size 432x288 with 1 Axes>"
      ]
     },
     "metadata": {
      "needs_background": "light"
     },
     "output_type": "display_data"
    }
   ],
   "source": [
    "import matplotlib.pyplot as plt\n",
    "\n",
    "logs = model_2.make_inspector().training_logs()\n",
    "plt.plot([log.num_trees for log in logs], [log.evaluation.accuracy for log in logs])\n",
    "plt.xlabel(\"Number of trees\")\n",
    "plt.ylabel(\"Out-of-bag accuracy\")\n",
    "pass"
   ]
  },
  {
   "cell_type": "code",
   "execution_count": 31,
   "metadata": {},
   "outputs": [
    {
     "name": "stdout",
     "output_type": "stream",
     "text": [
      "cut: 0.25, acc: 0.688328148404194, prec: 0.45179465776293826, rec: 0.9652251448952296, f1: 0.6154939587775409\n",
      "cut: 0.3, acc: 0.7408687636824519, prec: 0.49929444967074316, rec: 0.9465002229157379, f1: 0.6537336412625097\n",
      "cut: 0.35, acc: 0.7844221684525867, prec: 0.5495471497069793, rec: 0.9197503343736068, f1: 0.688010672002668\n",
      "cut: 0.39999999999999997, acc: 0.8154165226408573, prec: 0.5976836330387078, rec: 0.8742755238519839, f1: 0.7099927588703839\n",
      "cut: 0.44999999999999996, acc: 0.8338518262472635, prec: 0.640182009100455, rec: 0.8154257690592955, f1: 0.7172549019607842\n",
      "cut: 0.49999999999999994, acc: 0.8486000691323885, prec: 0.6885911490052781, rec: 0.756130182790905, f1: 0.7207819804504887\n",
      "cut: 0.5499999999999999, acc: 0.8502131581979491, prec: 0.7330696984676224, rec: 0.6611680784663397, f1: 0.695264885138303\n",
      "cut: 0.5999999999999999, acc: 0.8509044820831894, prec: 0.792, rec: 0.5737851092287115, f1: 0.6654601861427094\n",
      "cut: 0.6499999999999999, acc: 0.8420324922226063, prec: 0.8390357698289269, rec: 0.4810521622826572, f1: 0.6115046755454803\n",
      "cut: 0.7, acc: 0.8231363060260398, prec: 0.8782051282051282, rec: 0.36647347302719574, f1: 0.5171437558980813\n",
      "cut: 0.7499999999999999, acc: 0.8007835004032723, prec: 0.9158576051779935, rec: 0.25234061524743645, f1: 0.3956658511010136\n"
     ]
    }
   ],
   "source": [
    "p = model_2.predict(test_ds)\n",
    "\n",
    "#Fish for best cut\n",
    "for cut in np.arange(0.25, .8, .05):\n",
    "    tp = 0\n",
    "    tn = 0\n",
    "    fp = 0\n",
    "    fn = 0\n",
    "    N = len(p)\n",
    "    for i in range(N):\n",
    "        tru = test_cases[i][\"label\"] == '1'\n",
    "        prd = p[i] > cut\n",
    "        if tru and prd == tru:\n",
    "            tp = tp + 1\n",
    "        if tru and prd != tru:\n",
    "            fn = fn + 1\n",
    "        if tru == False and prd == tru:\n",
    "            tn = tn + 1\n",
    "        if tru == False and prd != tru:\n",
    "            fp = fp + 1\n",
    "    precision = tp/(tp+fp)\n",
    "    recall = tp/(tp+fn)\n",
    "    f1_score = 2 * (precision * recall) / (precision + recall)\n",
    "    print(\"cut: {}, acc: {}, prec: {}, rec: {}, f1: {}\".format(cut, (tp+tn)/N, precision, recall, f1_score))"
   ]
  },
  {
   "cell_type": "code",
   "execution_count": 210,
   "metadata": {},
   "outputs": [],
   "source": [
    "cut = 55\n",
    "N = len(p)\n",
    "with open(\"/home/ralf//IdeaProjects/LitBall-training/pred.json\", \"w\") as file:\n",
    "    for i in range(N):\n",
    "        tru = test_cases[i][\"label\"] == '1'\n",
    "        val = int((p[i]+0.005) * 100)\n",
    "        pred = False\n",
    "        if val > cut:\n",
    "            pred = True\n",
    "        if tru != pred:\n",
    "            m = {\"DOI\": test_cases[i][\"DOI\"], \"pred\": pred, \"val\": val}\n",
    "            file.write(json.dumps(m))\n",
    "            file.write(\"\\n\")"
   ]
  },
  {
   "cell_type": "code",
   "execution_count": null,
   "metadata": {},
   "outputs": [],
   "source": []
  }
 ],
 "metadata": {
  "colab": {
   "collapsed_sections": [],
   "name": "intermediate_colab.ipynb",
   "provenance": [],
   "toc_visible": true
  },
  "kernelspec": {
   "display_name": "Python 3",
   "language": "python",
   "name": "python3"
  },
  "language_info": {
   "codemirror_mode": {
    "name": "ipython",
    "version": 3
   },
   "file_extension": ".py",
   "mimetype": "text/x-python",
   "name": "python",
   "nbconvert_exporter": "python",
   "pygments_lexer": "ipython3",
   "version": "3.6.15"
  }
 },
 "nbformat": 4,
 "nbformat_minor": 1
}
